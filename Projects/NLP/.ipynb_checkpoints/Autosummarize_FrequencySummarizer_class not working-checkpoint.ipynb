{
 "cells": [
  {
   "cell_type": "code",
   "execution_count": 1,
   "metadata": {},
   "outputs": [],
   "source": [
    "from nltk.tokenize import sent_tokenize,word_tokenize\n",
    "from nltk.corpus import stopwords\n",
    "from collections import defaultdict\n",
    "from string import punctuation\n",
    "from heapq import nlargest\n",
    "\n",
    "class FrequencySummarizer:\n",
    "  def __init__(self, min_cut=0.1, max_cut=0.9):\n",
    "    \"\"\"\n",
    "     Initilize the text summarizer.\n",
    "     Words that have a frequency term lower than min_cut \n",
    "     or higer than max_cut will be ignored.\n",
    "    \"\"\"\n",
    "    self._min_cut = min_cut\n",
    "    self._max_cut = max_cut \n",
    "    self._stopwords = set(stopwords.words('english') + list(punctuation))\n",
    "\n",
    "  def _compute_frequencies(self, word_sent):\n",
    "    \"\"\" \n",
    "      Compute the frequency of each of word.\n",
    "      Input: \n",
    "       word_sent, a list of sentences already tokenized.\n",
    "      Output: \n",
    "       freq, a dictionary where freq[w] is the frequency of w.\n",
    "    \"\"\"\n",
    "    freq = defaultdict(int)\n",
    "    for s in word_sent:\n",
    "      for word in s:\n",
    "        if word not in self._stopwords:\n",
    "          freq[word] += 1\n",
    "    # frequencies normalization and fitering\n",
    "    m = float(max(freq.values()))\n",
    "    for w in freq.keys():\n",
    "      freq[w] = freq[w]/m\n",
    "      if freq[w] >= self._max_cut or freq[w] <= self._min_cut:\n",
    "        del freq[w]\n",
    "    return freq\n",
    "\n",
    "  def summarize(self, text, n):\n",
    "    \"\"\"\n",
    "      Return a list of n sentences \n",
    "      which represent the summary of text.\n",
    "    \"\"\"\n",
    "    sents = sent_tokenize(text)\n",
    "    assert n <= len(sents)\n",
    "    word_sent = [word_tokenize(s.lower()) for s in sents]\n",
    "    self._freq = self._compute_frequencies(word_sent)\n",
    "    ranking = defaultdict(int)\n",
    "    for i,sent in enumerate(word_sent):\n",
    "      for w in sent:\n",
    "        if w in self._freq:\n",
    "          ranking[i] += self._freq[w]\n",
    "    sents_idx = self._rank(ranking, n)    \n",
    "    return [sents[j] for j in sents_idx]\n",
    "\n",
    "  def _rank(self, ranking, n):\n",
    "    \"\"\" return the first n sentences with highest ranking \"\"\"\n",
    "    return nlargest(n, ranking, key=ranking.get)"
   ]
  },
  {
   "cell_type": "code",
   "execution_count": 63,
   "metadata": {},
   "outputs": [],
   "source": [
    "import urllib3\n",
    "from bs4 import BeautifulSoup\n",
    "urllib3.disable_warnings(urllib3.exceptions.InsecureRequestWarning)\n",
    "\n",
    "\n",
    "def get_only_text(url):\n",
    "    \"\"\" \n",
    "    return the title and the text of the article\n",
    "    at the specified url\n",
    "    \"\"\"\n",
    "#     print('######'+url)\n",
    "    http = urllib3.PoolManager()\n",
    "    response = http.request('GET', url)\n",
    "    #  page = urllib2.urlopen(url).read().decode('utf8')\n",
    "    soup = BeautifulSoup(response.data,\"lxml\")\n",
    "    text = ' '.join(map(lambda p: p.text, soup.find_all('p')))\n",
    "    return soup.title.text, str(text.encode('ascii', errors='replace')).replace(\"?\",\" \")"
   ]
  },
  {
   "cell_type": "code",
   "execution_count": 59,
   "metadata": {},
   "outputs": [],
   "source": [
    "articleURL = \"https://timesofindia.indiatimes.com/Now-just-pop-a-pill-to-stop-blood-clots/articleshow/4905951.cms\"\n",
    "articleURL1='https://www.washingtonpost.com/world/2018/09/04/with-india-meet-trump-administration-seeks-build-ties-not-damage-them/'"
   ]
  },
  {
   "cell_type": "code",
   "execution_count": 64,
   "metadata": {},
   "outputs": [],
   "source": [
    "title,txt = get_only_text(articleURL)"
   ]
  },
  {
   "cell_type": "code",
   "execution_count": 65,
   "metadata": {},
   "outputs": [
    {
     "data": {
      "text/plain": [
       "'b\"We\\'ve detected your location as \\'Delhi NCR\\'. Do you want to switch \\\\n            Accurate city detection helps us serve more relevant content. Unconventional ways to make your marriage stronger My girlfriend meets her ex-boyfriend without my knowledge Your love horoscope for the month of September Thank you, Bridget. You helped me overcome my awkward, obese teen years My best friend flirts with my boyfriend Signs of a loveless marriage and how to make it work The age at which your self esteem is the highest! Yes, you GAIN weight during periods. Know why! 9 of the weirdest things doctors have removed from a patient\\'s body Attention Parents: Don\\'t let your kids play THIS sports before they turn 12! The IDEAL number of times you should have sex in a week 10-minute full body, no-gear workout Who wore what at Shweta Bachchan\\'s party Kareena Kapoor\\'s new bikini photo is too hot! Five ways to re-use your wedding lehenga Every Bollywood celeb is wearing these shoes Five lehenga styles to steal from Janhvi Kapoor Kareena Kapoor and Karisma Kapoor\\'s latest shoot is too hot to handle! Five easy ways to prevent your nails from drying and peeling How to get glowing skin How to shave if you have acne Here are some of the most absurd cosmetic procedures Wanna be a cold brew brunette  How to stop your make-up from melting in summer Tried out these challenges with your furry buddy yet  I won t apologise for my tweet: Payal Rohatgi When thousands gathered for #ModaluTrainBeku What you should do to avoid falling ill this season Jinson Johnson: My next dream is to do well in Olympics Kids  addiction to technology a growing problem DESIGNCAFE Ozone Urbana Prime TG Developers Refrain from posting comments that are obscene, defamatory or inflammatory, and do not indulge in personal attacks, name calling or inciting hatred against any community. Help us delete comments that do not follow these guidelines by marking them offensive. Let\\'s work together to keep the conversation civil. \"'"
      ]
     },
     "execution_count": 65,
     "metadata": {},
     "output_type": "execute_result"
    }
   ],
   "source": [
    "txt"
   ]
  },
  {
   "cell_type": "code",
   "execution_count": null,
   "metadata": {},
   "outputs": [],
   "source": []
  },
  {
   "cell_type": "code",
   "execution_count": null,
   "metadata": {},
   "outputs": [],
   "source": []
  },
  {
   "cell_type": "code",
   "execution_count": null,
   "metadata": {},
   "outputs": [],
   "source": []
  },
  {
   "cell_type": "code",
   "execution_count": 70,
   "metadata": {},
   "outputs": [
    {
     "name": "stdout",
     "output_type": "stream",
     "text": [
      "----------------------------------\n",
      "Jair Bolsonaro, Brazil's presidential front-runner, stabbed at rally - BBC News\n"
     ]
    },
    {
     "ename": "RuntimeError",
     "evalue": "dictionary changed size during iteration",
     "output_type": "error",
     "traceback": [
      "\u001b[1;31m---------------------------------------------------------------------------\u001b[0m",
      "\u001b[1;31mRuntimeError\u001b[0m                              Traceback (most recent call last)",
      "\u001b[1;32m<ipython-input-70-62ac480643d2>\u001b[0m in \u001b[0;36m<module>\u001b[1;34m()\u001b[0m\n\u001b[0;32m     16\u001b[0m   \u001b[0mprint\u001b[0m\u001b[1;33m(\u001b[0m\u001b[1;34m'----------------------------------'\u001b[0m\u001b[1;33m)\u001b[0m\u001b[1;33m\u001b[0m\u001b[0m\n\u001b[0;32m     17\u001b[0m   \u001b[0mprint\u001b[0m \u001b[1;33m(\u001b[0m\u001b[0mtitle\u001b[0m\u001b[1;33m)\u001b[0m\u001b[1;33m\u001b[0m\u001b[0m\n\u001b[1;32m---> 18\u001b[1;33m   \u001b[1;32mfor\u001b[0m \u001b[0ms\u001b[0m \u001b[1;32min\u001b[0m \u001b[0mfs\u001b[0m\u001b[1;33m.\u001b[0m\u001b[0msummarize\u001b[0m\u001b[1;33m(\u001b[0m\u001b[0mtext\u001b[0m\u001b[1;33m,\u001b[0m \u001b[1;36m2\u001b[0m\u001b[1;33m)\u001b[0m\u001b[1;33m:\u001b[0m\u001b[1;33m\u001b[0m\u001b[0m\n\u001b[0m\u001b[0;32m     19\u001b[0m     \u001b[0mprint\u001b[0m \u001b[1;33m(\u001b[0m\u001b[1;34m'*'\u001b[0m\u001b[1;33m,\u001b[0m\u001b[0ms\u001b[0m\u001b[1;33m)\u001b[0m\u001b[1;33m\u001b[0m\u001b[0m\n",
      "\u001b[1;32m<ipython-input-1-50d6ced20d93>\u001b[0m in \u001b[0;36msummarize\u001b[1;34m(self, text, n)\u001b[0m\n\u001b[0;32m     45\u001b[0m     \u001b[1;32massert\u001b[0m \u001b[0mn\u001b[0m \u001b[1;33m<=\u001b[0m \u001b[0mlen\u001b[0m\u001b[1;33m(\u001b[0m\u001b[0msents\u001b[0m\u001b[1;33m)\u001b[0m\u001b[1;33m\u001b[0m\u001b[0m\n\u001b[0;32m     46\u001b[0m     \u001b[0mword_sent\u001b[0m \u001b[1;33m=\u001b[0m \u001b[1;33m[\u001b[0m\u001b[0mword_tokenize\u001b[0m\u001b[1;33m(\u001b[0m\u001b[0ms\u001b[0m\u001b[1;33m.\u001b[0m\u001b[0mlower\u001b[0m\u001b[1;33m(\u001b[0m\u001b[1;33m)\u001b[0m\u001b[1;33m)\u001b[0m \u001b[1;32mfor\u001b[0m \u001b[0ms\u001b[0m \u001b[1;32min\u001b[0m \u001b[0msents\u001b[0m\u001b[1;33m]\u001b[0m\u001b[1;33m\u001b[0m\u001b[0m\n\u001b[1;32m---> 47\u001b[1;33m     \u001b[0mself\u001b[0m\u001b[1;33m.\u001b[0m\u001b[0m_freq\u001b[0m \u001b[1;33m=\u001b[0m \u001b[0mself\u001b[0m\u001b[1;33m.\u001b[0m\u001b[0m_compute_frequencies\u001b[0m\u001b[1;33m(\u001b[0m\u001b[0mword_sent\u001b[0m\u001b[1;33m)\u001b[0m\u001b[1;33m\u001b[0m\u001b[0m\n\u001b[0m\u001b[0;32m     48\u001b[0m     \u001b[0mranking\u001b[0m \u001b[1;33m=\u001b[0m \u001b[0mdefaultdict\u001b[0m\u001b[1;33m(\u001b[0m\u001b[0mint\u001b[0m\u001b[1;33m)\u001b[0m\u001b[1;33m\u001b[0m\u001b[0m\n\u001b[0;32m     49\u001b[0m     \u001b[1;32mfor\u001b[0m \u001b[0mi\u001b[0m\u001b[1;33m,\u001b[0m\u001b[0msent\u001b[0m \u001b[1;32min\u001b[0m \u001b[0menumerate\u001b[0m\u001b[1;33m(\u001b[0m\u001b[0mword_sent\u001b[0m\u001b[1;33m)\u001b[0m\u001b[1;33m:\u001b[0m\u001b[1;33m\u001b[0m\u001b[0m\n",
      "\u001b[1;32m<ipython-input-1-50d6ced20d93>\u001b[0m in \u001b[0;36m_compute_frequencies\u001b[1;34m(self, word_sent)\u001b[0m\n\u001b[0;32m     31\u001b[0m     \u001b[1;31m# frequencies normalization and fitering\u001b[0m\u001b[1;33m\u001b[0m\u001b[1;33m\u001b[0m\u001b[0m\n\u001b[0;32m     32\u001b[0m     \u001b[0mm\u001b[0m \u001b[1;33m=\u001b[0m \u001b[0mfloat\u001b[0m\u001b[1;33m(\u001b[0m\u001b[0mmax\u001b[0m\u001b[1;33m(\u001b[0m\u001b[0mfreq\u001b[0m\u001b[1;33m.\u001b[0m\u001b[0mvalues\u001b[0m\u001b[1;33m(\u001b[0m\u001b[1;33m)\u001b[0m\u001b[1;33m)\u001b[0m\u001b[1;33m)\u001b[0m\u001b[1;33m\u001b[0m\u001b[0m\n\u001b[1;32m---> 33\u001b[1;33m     \u001b[1;32mfor\u001b[0m \u001b[0mw\u001b[0m \u001b[1;32min\u001b[0m \u001b[0mfreq\u001b[0m\u001b[1;33m.\u001b[0m\u001b[0mkeys\u001b[0m\u001b[1;33m(\u001b[0m\u001b[1;33m)\u001b[0m\u001b[1;33m:\u001b[0m\u001b[1;33m\u001b[0m\u001b[0m\n\u001b[0m\u001b[0;32m     34\u001b[0m       \u001b[0mfreq\u001b[0m\u001b[1;33m[\u001b[0m\u001b[0mw\u001b[0m\u001b[1;33m]\u001b[0m \u001b[1;33m=\u001b[0m \u001b[0mfreq\u001b[0m\u001b[1;33m[\u001b[0m\u001b[0mw\u001b[0m\u001b[1;33m]\u001b[0m\u001b[1;33m/\u001b[0m\u001b[0mm\u001b[0m\u001b[1;33m\u001b[0m\u001b[0m\n\u001b[0;32m     35\u001b[0m       \u001b[1;32mif\u001b[0m \u001b[0mfreq\u001b[0m\u001b[1;33m[\u001b[0m\u001b[0mw\u001b[0m\u001b[1;33m]\u001b[0m \u001b[1;33m>=\u001b[0m \u001b[0mself\u001b[0m\u001b[1;33m.\u001b[0m\u001b[0m_max_cut\u001b[0m \u001b[1;32mor\u001b[0m \u001b[0mfreq\u001b[0m\u001b[1;33m[\u001b[0m\u001b[0mw\u001b[0m\u001b[1;33m]\u001b[0m \u001b[1;33m<=\u001b[0m \u001b[0mself\u001b[0m\u001b[1;33m.\u001b[0m\u001b[0m_min_cut\u001b[0m\u001b[1;33m:\u001b[0m\u001b[1;33m\u001b[0m\u001b[0m\n",
      "\u001b[1;31mRuntimeError\u001b[0m: dictionary changed size during iteration"
     ]
    }
   ],
   "source": [
    "import urllib3\n",
    "urllib3.disable_warnings(urllib3.exceptions.InsecureRequestWarning)\n",
    "from bs4 import BeautifulSoup\n",
    "\n",
    "http = urllib3.PoolManager()\n",
    "\n",
    "url = 'http://feeds.bbci.co.uk/news/rss.xml'\n",
    "response = http.request('GET', url)\n",
    "# feed_xml = urllib2.urlopen('http://feeds.bbci.co.uk/news/rss.xml').read()\n",
    "feed = BeautifulSoup(response.data, \"lxml\")\n",
    "# feed = BeautifulSoup(feed_xml.decode('utf8'))\n",
    "to_summarize = list(map(lambda p: p.text, feed.find_all('guid')))\n",
    "fs = FrequencySummarizer()\n",
    "for article_url in to_summarize[:5]:\n",
    "  title, text = get_only_text(article_url)\n",
    "  print('----------------------------------')\n",
    "  print (title)\n",
    "  for s in fs.summarize(text, 2):\n",
    "    print ('*',s)"
   ]
  },
  {
   "cell_type": "code",
   "execution_count": null,
   "metadata": {},
   "outputs": [],
   "source": []
  },
  {
   "cell_type": "code",
   "execution_count": null,
   "metadata": {},
   "outputs": [],
   "source": []
  },
  {
   "cell_type": "code",
   "execution_count": null,
   "metadata": {},
   "outputs": [],
   "source": []
  },
  {
   "cell_type": "code",
   "execution_count": 48,
   "metadata": {},
   "outputs": [],
   "source": []
  },
  {
   "cell_type": "code",
   "execution_count": null,
   "metadata": {},
   "outputs": [],
   "source": [
    "import urllib3\n",
    "urllib3.disable_warnings(urllib3.exceptions.InsecureRequestWarning)\n",
    "from bs4 import BeautifulSoup\n",
    "\n",
    "http = urllib3.PoolManager()\n",
    "\n",
    "url = 'https://timesofindia.indiatimes.com/rssfeeds/3908999.cms'\n",
    "response = http.request('GET', url)\n",
    "# feed_xml = urllib2.urlopen('http://feeds.bbci.co.uk/news/rss.xml').read()\n",
    "feed = BeautifulSoup(response.data, \"lxml\")\n",
    "# feed = BeautifulSoup(feed_xml.decode('utf8'))\n",
    "to_summarize = list(map(lambda p: p.text, feed.find_all('guid')))\n",
    "fs = FrequencySummarizer()\n",
    "for article_url in to_summarize[:5]:\n",
    "  title, text = get_only_text(article_url)\n",
    "  print('----------------------------------')\n",
    "  print (title)\n",
    "  print(text)\n",
    "#   for s in summarize(text, 2):\n",
    "#    print ('*',s)"
   ]
  },
  {
   "cell_type": "code",
   "execution_count": 55,
   "metadata": {},
   "outputs": [
    {
     "data": {
      "text/plain": [
       "'b\"We\\'ve detected your location as \\'Delhi NCR\\'. Do you want to switch \\\\n            Accurate city detection helps us serve more relevant content. Japanese children are the happiest in the world Unconventional ways to make your marriage stronger My girlfriend meets her ex-boyfriend without my knowledge Your love horoscope for the month of September Thank you, Bridget. You helped me overcome my awkward, obese teen years My best friend flirts with my boyfriend Yes, you GAIN weight during periods. Know why! The age at which your self esteem is the highest! Your bed tea is damaging your body! Know why 9 of the weirdest things doctors have removed from a patient\\'s body Attention Parents: Don\\'t let your kids play THIS sports before they turn 12! The IDEAL number of times you should have sex in a week How to wear a maxi dress like Sonam Kapoor Who wore what at Shweta Bachchan\\'s party Kareena Kapoor\\'s new bikini photo is too hot! Five ways to re-use your wedding lehenga Every Bollywood celeb is wearing these shoes Five lehenga styles to steal from Janhvi Kapoor 5 skin secrets that every woman must know Five easy ways to prevent your nails from drying and peeling How to get glowing skin How to shave if you have acne Here are some of the most absurd cosmetic procedures Wanna be a cold brew brunette  Meet Bengaluru s layer tape artist Nithin Sadhu Time to have some clean humour Autism couldn t impede her flair for music Tried out these challenges with your furry buddy yet  I won t apologise for my tweet: Payal Rohatgi When thousands gathered for #ModaluTrainBeku TATA Crucible Ozone Urbana Prime Max Musli Refrain from posting comments that are obscene, defamatory or inflammatory, and do not indulge in personal attacks, name calling or inciting hatred against any community. Help us delete comments that do not follow these guidelines by marking them offensive. Let\\'s work together to keep the conversation civil. \"'"
      ]
     },
     "execution_count": 55,
     "metadata": {},
     "output_type": "execute_result"
    }
   ],
   "source": [
    "text"
   ]
  },
  {
   "cell_type": "code",
   "execution_count": null,
   "metadata": {},
   "outputs": [],
   "source": []
  },
  {
   "cell_type": "code",
   "execution_count": null,
   "metadata": {},
   "outputs": [],
   "source": []
  },
  {
   "cell_type": "code",
   "execution_count": null,
   "metadata": {},
   "outputs": [],
   "source": []
  }
 ],
 "metadata": {
  "kernelspec": {
   "display_name": "Python 3",
   "language": "python",
   "name": "python3"
  },
  "language_info": {
   "codemirror_mode": {
    "name": "ipython",
    "version": 3
   },
   "file_extension": ".py",
   "mimetype": "text/x-python",
   "name": "python",
   "nbconvert_exporter": "python",
   "pygments_lexer": "ipython3",
   "version": "3.6.3"
  }
 },
 "nbformat": 4,
 "nbformat_minor": 2
}
