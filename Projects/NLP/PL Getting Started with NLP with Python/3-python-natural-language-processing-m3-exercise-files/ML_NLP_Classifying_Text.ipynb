{
 "cells": [
  {
   "cell_type": "code",
   "execution_count": 10,
   "metadata": {},
   "outputs": [],
   "source": [
    "# import urllib2\n",
    "import urllib3\n",
    "urllib3.disable_warnings(urllib3.exceptions.InsecureRequestWarning)\n",
    "from bs4 import BeautifulSoup\n",
    "\n",
    "def getAllDoxyDonkeyPosts(url,links):\n",
    "#     request = urllib2.Request(url)\n",
    "#     response = urllib2.urlopen(request)\n",
    "    http = urllib3.PoolManager()\n",
    "\n",
    "#     url = 'http://feeds.bbci.co.uk/news/rss.xml'\n",
    "    response = http.request('GET', url)\n",
    "    soup = BeautifulSoup(response, \"lxml\")\n",
    "    for a in soup.findAll('a'):\n",
    "        try:\n",
    "            url = a['href']\n",
    "            title = a['title']\n",
    "            if title == \"Older Posts\":\n",
    "                print (title, url)\n",
    "                links.append(url)\n",
    "                getAllDoxyDonkeyPosts(url,links)\n",
    "        except:\n",
    "            title = \"\"\n",
    "    return\n",
    "\n",
    "blogUrl = \"http://doxydonkey.blogspot.in\"\n",
    "links = []\n",
    "getAllDoxyDonkeyPosts(blogUrl,links)"
   ]
  },
  {
   "cell_type": "code",
   "execution_count": 11,
   "metadata": {},
   "outputs": [],
   "source": [
    "def getDoxyDonkeyText(testUrl):\n",
    "    http = urllib3.PoolManager()\n",
    "\n",
    "    #     url = 'http://feeds.bbci.co.uk/news/rss.xml'\n",
    "    response = http.request('GET', url)\n",
    "    soup = BeautifulSoup(response, \"lxml\")\n",
    "    mydivs = soup.findAll(\"div\", {\"class\":'post-body'})\n",
    "    \n",
    "    posts =[]\n",
    "    for div in mydivs:\n",
    "        posts+=map(lambda p:p.text.encode('ascii', errors='replace').replace(\"?\",\" \"), div.findAll(\"li\"))\n",
    "    return posts"
   ]
  },
  {
   "cell_type": "code",
   "execution_count": 12,
   "metadata": {},
   "outputs": [],
   "source": [
    "doxyDonkeyPosts = []\n",
    "for link in links:\n",
    "    doxyDonkeyPosts+=getDoxyDonkeyText(link)"
   ]
  },
  {
   "cell_type": "code",
   "execution_count": 13,
   "metadata": {},
   "outputs": [
    {
     "data": {
      "text/plain": [
       "[]"
      ]
     },
     "execution_count": 13,
     "metadata": {},
     "output_type": "execute_result"
    }
   ],
   "source": [
    "doxyDonkeyPosts"
   ]
  },
  {
   "cell_type": "code",
   "execution_count": 41,
   "metadata": {
    "collapsed": true
   },
   "outputs": [],
   "source": [
    "\n",
    "from sklearn.feature_extraction.text import TfidfVectorizer"
   ]
  },
  {
   "cell_type": "code",
   "execution_count": 42,
   "metadata": {
    "collapsed": true
   },
   "outputs": [],
   "source": [
    "vectorizer = TfidfVectorizer(max_df=0.5,min_df=2,stop_words='english')"
   ]
  },
  {
   "cell_type": "code",
   "execution_count": 43,
   "metadata": {},
   "outputs": [
    {
     "data": {
      "text/plain": [
       "<2465x12428 sparse matrix of type '<type 'numpy.float64'>'\n",
       "\twith 247984 stored elements in Compressed Sparse Row format>"
      ]
     },
     "execution_count": 43,
     "metadata": {},
     "output_type": "execute_result"
    }
   ],
   "source": [
    "X = vectorizer.fit_transform(doxyDonkeyPosts)\n",
    "X"
   ]
  },
  {
   "cell_type": "code",
   "execution_count": 44,
   "metadata": {},
   "outputs": [
    {
     "data": {
      "text/plain": [
       "<1x12428 sparse matrix of type '<type 'numpy.float64'>'\n",
       "\twith 125 stored elements in Compressed Sparse Row format>"
      ]
     },
     "execution_count": 44,
     "metadata": {},
     "output_type": "execute_result"
    }
   ],
   "source": [
    "X[0]"
   ]
  },
  {
   "cell_type": "code",
   "execution_count": 45,
   "metadata": {},
   "outputs": [
    {
     "name": "stdout",
     "output_type": "stream",
     "text": [
      "  (0, 738)\t0.0700267614388\n",
      "  (0, 10286)\t0.0590460757607\n",
      "  (0, 4212)\t0.0614734464037\n",
      "  (0, 11180)\t0.0552777195907\n",
      "  (0, 2421)\t0.0780548982722\n",
      "  (0, 11160)\t0.0592684209687\n",
      "  (0, 9723)\t0.0559448996494\n",
      "  (0, 6406)\t0.0511721887506\n",
      "  (0, 678)\t0.0506034325452\n",
      "  (0, 10190)\t0.104789906333\n",
      "  (0, 8144)\t0.0951615283425\n",
      "  (0, 11477)\t0.0803047144103\n",
      "  (0, 7409)\t0.0866082133073\n",
      "  (0, 8717)\t0.0753013458579\n",
      "  (0, 3593)\t0.0552777195907\n",
      "  (0, 3890)\t0.118536841937\n",
      "  (0, 10030)\t0.0700267614388\n",
      "  (0, 3105)\t0.0830582668246\n",
      "  (0, 8402)\t0.0830582668246\n",
      "  (0, 11708)\t0.0916115818598\n",
      "  (0, 8133)\t0.0837689595714\n",
      "  (0, 1625)\t0.0719646227776\n",
      "  (0, 7525)\t0.117226110017\n",
      "  (0, 7241)\t0.035646969416\n",
      "  (0, 2964)\t0.0530549941883\n",
      "  :\t:\n",
      "  (0, 5749)\t0.0914234747621\n",
      "  (0, 90)\t0.0493366982297\n",
      "  (0, 9847)\t0.0717513993752\n",
      "  (0, 3110)\t0.0332219620451\n",
      "  (0, 9957)\t0.0556068010977\n",
      "  (0, 10509)\t0.0361534628868\n",
      "  (0, 12148)\t0.0421617908983\n",
      "  (0, 4813)\t0.0464038715942\n",
      "  (0, 9618)\t0.0450563714211\n",
      "  (0, 11759)\t0.0592684209687\n",
      "  (0, 8280)\t0.0554411633733\n",
      "  (0, 6082)\t0.168877570039\n",
      "  (0, 7461)\t0.072384349661\n",
      "  (0, 1091)\t0.431380369415\n",
      "  (0, 1028)\t0.0816048447549\n",
      "  (0, 8474)\t0.115185307382\n",
      "  (0, 10840)\t0.0561174874303\n",
      "  (0, 9760)\t0.0395435944136\n",
      "  (0, 6132)\t0.115185307382\n",
      "  (0, 5358)\t0.0916115818598\n",
      "  (0, 4755)\t0.0816048447549\n",
      "  (0, 6081)\t0.0963759573654\n",
      "  (0, 7455)\t0.129368593949\n",
      "  (0, 7158)\t0.069501583237\n",
      "  (0, 8931)\t0.0495389949764\n"
     ]
    }
   ],
   "source": [
    "print X[0]"
   ]
  },
  {
   "cell_type": "code",
   "execution_count": 46,
   "metadata": {
    "collapsed": true
   },
   "outputs": [],
   "source": [
    "from sklearn.cluster import KMeans\n",
    "km = KMeans(n_clusters = 3, init = 'k-means++', max_iter = 100, n_init = 1, verbose = True)"
   ]
  },
  {
   "cell_type": "code",
   "execution_count": 47,
   "metadata": {},
   "outputs": [
    {
     "name": "stdout",
     "output_type": "stream",
     "text": [
      "Initialization complete\n",
      "Iteration  0, inertia 4615.041\n",
      "Iteration  1, inertia 2359.133\n",
      "Iteration  2, inertia 2350.761\n",
      "Iteration  3, inertia 2348.676\n",
      "Iteration  4, inertia 2347.730\n",
      "Iteration  5, inertia 2346.988\n",
      "Iteration  6, inertia 2346.534\n",
      "Iteration  7, inertia 2346.219\n",
      "Iteration  8, inertia 2346.034\n",
      "Iteration  9, inertia 2345.942\n",
      "Iteration 10, inertia 2345.873\n",
      "Iteration 11, inertia 2345.804\n",
      "Iteration 12, inertia 2345.751\n",
      "Iteration 13, inertia 2345.732\n",
      "Iteration 14, inertia 2345.712\n",
      "Iteration 15, inertia 2345.703\n",
      "Iteration 16, inertia 2345.684\n",
      "Iteration 17, inertia 2345.665\n",
      "Iteration 18, inertia 2345.642\n",
      "Iteration 19, inertia 2345.603\n",
      "Iteration 20, inertia 2345.577\n",
      "Iteration 21, inertia 2345.551\n",
      "Iteration 22, inertia 2345.531\n",
      "Iteration 23, inertia 2345.514\n",
      "Iteration 24, inertia 2345.505\n",
      "Iteration 25, inertia 2345.495\n",
      "Iteration 26, inertia 2345.476\n",
      "Iteration 27, inertia 2345.474\n",
      "Converged at iteration 27\n"
     ]
    },
    {
     "data": {
      "text/plain": [
       "KMeans(copy_x=True, init='k-means++', max_iter=100, n_clusters=3, n_init=1,\n",
       "    n_jobs=1, precompute_distances='auto', random_state=None, tol=0.0001,\n",
       "    verbose=True)"
      ]
     },
     "execution_count": 47,
     "metadata": {},
     "output_type": "execute_result"
    }
   ],
   "source": [
    "km.fit(X)"
   ]
  },
  {
   "cell_type": "code",
   "execution_count": 48,
   "metadata": {},
   "outputs": [
    {
     "data": {
      "text/plain": [
       "(array([0, 1, 2], dtype=int32), array([1505,  416,  544]))"
      ]
     },
     "execution_count": 48,
     "metadata": {},
     "output_type": "execute_result"
    }
   ],
   "source": [
    "import numpy as np\n",
    "np.unique(km.labels_, return_counts=True)"
   ]
  },
  {
   "cell_type": "code",
   "execution_count": 49,
   "metadata": {
    "collapsed": true
   },
   "outputs": [],
   "source": [
    "text={}\n",
    "for i,cluster in enumerate(km.labels_):\n",
    "    oneDocument = doxyDonkeyPosts[i]\n",
    "    if cluster not in text.keys():\n",
    "        text[cluster] = oneDocument\n",
    "    else:\n",
    "        text[cluster] += oneDocument"
   ]
  },
  {
   "cell_type": "code",
   "execution_count": 50,
   "metadata": {
    "collapsed": true
   },
   "outputs": [],
   "source": [
    "from nltk.tokenize import sent_tokenize, word_tokenize\n",
    "from nltk.corpus import stopwords\n",
    "from nltk.probability import FreqDist\n",
    "from collections import defaultdict\n",
    "from string import punctuation\n",
    "from heapq import nlargest\n",
    "import nltk "
   ]
  },
  {
   "cell_type": "code",
   "execution_count": 51,
   "metadata": {
    "collapsed": true
   },
   "outputs": [],
   "source": [
    "_stopwords = set(stopwords.words('english') + list(punctuation)+[\"million\",\"billion\",\"year\",\"millions\",\"billions\",\"y/y\",\"'s\",\"''\",\"``\"])\n",
    " "
   ]
  },
  {
   "cell_type": "code",
   "execution_count": 52,
   "metadata": {
    "collapsed": true
   },
   "outputs": [],
   "source": [
    "keywords = {}\n",
    "counts={}\n",
    "for cluster in range(3):\n",
    "    word_sent = word_tokenize(text[cluster].lower())\n",
    "    word_sent=[word for word in word_sent if word not in _stopwords]\n",
    "    freq = FreqDist(word_sent)\n",
    "    keywords[cluster] = nlargest(100, freq, key=freq.get)\n",
    "    counts[cluster]=freq"
   ]
  },
  {
   "cell_type": "code",
   "execution_count": 53,
   "metadata": {
    "collapsed": true
   },
   "outputs": [],
   "source": [
    "unique_keys={}\n",
    "for cluster in range(3):   \n",
    "    other_clusters=list(set(range(3))-set([cluster]))\n",
    "    keys_other_clusters=set(keywords[other_clusters[0]]).union(set(keywords[other_clusters[1]]))\n",
    "    unique=set(keywords[cluster])-keys_other_clusters\n",
    "    unique_keys[cluster]=nlargest(10, unique, key=counts[cluster].get)"
   ]
  },
  {
   "cell_type": "code",
   "execution_count": 54,
   "metadata": {},
   "outputs": [
    {
     "data": {
      "text/plain": [
       "{0: ['amazon',\n",
       "  'quarter',\n",
       "  'customers',\n",
       "  'microsoft',\n",
       "  'price',\n",
       "  'profit',\n",
       "  'cloud',\n",
       "  'inc.',\n",
       "  'analysts',\n",
       "  'chief'],\n",
       " 1: ['uber',\n",
       "  'round',\n",
       "  'capital',\n",
       "  'raised',\n",
       "  'funding',\n",
       "  'valuation',\n",
       "  'investment',\n",
       "  'private',\n",
       "  'lyft',\n",
       "  'venture'],\n",
       " 2: ['facebook',\n",
       "  'twitter',\n",
       "  'ads',\n",
       "  'video',\n",
       "  'ad',\n",
       "  'search',\n",
       "  'apps',\n",
       "  'social',\n",
       "  'advertising',\n",
       "  'youtube']}"
      ]
     },
     "execution_count": 54,
     "metadata": {},
     "output_type": "execute_result"
    }
   ],
   "source": [
    "unique_keys"
   ]
  },
  {
   "cell_type": "code",
   "execution_count": 55,
   "metadata": {
    "collapsed": true
   },
   "outputs": [],
   "source": [
    "article = \"Facebook Inc. has been giving advertisers an inflated metric for the average time users spent watching a video, a measurement that may have helped boost marketer spending on one of Facebook’s most popular ad products. The company, owner of the world’s largest social network, only counts a video as viewed if it has been seen for more than 3 seconds. The metric it gave advertisers for their average video view time incorporated only the people who had watched the video long enough to count as a view in the first place, inflating the metric because it didn’t count anyone who didn’t watch, or watched for a shorter time. Facebook’s stock fell more than 1.5 percent in extended trading after the miscalculation was earlier reported in the Wall Street Journal. Facebook had disclosed the mistake in a posting on its advertiser help center web page several weeks ago. Big advertising buyers and marketers are upset about the inflated metric, and asked the company for more details, according to the report in the Journal, citing unidentified people familiar with the situation. The Menlo Park, California-based company has kept revenue surging in part because of enthusiasm for its video ads, which advertisers compare in performance to those on Twitter, YouTube and around the web.\""
   ]
  },
  {
   "cell_type": "code",
   "execution_count": 68,
   "metadata": {},
   "outputs": [
    {
     "data": {
      "text/plain": [
       "KNeighborsClassifier(algorithm='auto', leaf_size=30, metric='minkowski',\n",
       "           metric_params=None, n_jobs=1, n_neighbors=3, p=2,\n",
       "           weights='uniform')"
      ]
     },
     "execution_count": 68,
     "metadata": {},
     "output_type": "execute_result"
    }
   ],
   "source": [
    "from sklearn.neighbors import KNeighborsClassifier\n",
    "classifier = KNeighborsClassifier(n_neighbors=3)\n",
    "classifier.fit(X,km.labels_)"
   ]
  },
  {
   "cell_type": "code",
   "execution_count": 69,
   "metadata": {
    "collapsed": true
   },
   "outputs": [],
   "source": [
    "test=vectorizer.transform([article.decode('utf8').encode('ascii',errors='ignore')])"
   ]
  },
  {
   "cell_type": "code",
   "execution_count": 70,
   "metadata": {},
   "outputs": [
    {
     "data": {
      "text/plain": [
       "<1x12428 sparse matrix of type '<type 'numpy.float64'>'\n",
       "\twith 85 stored elements in Compressed Sparse Row format>"
      ]
     },
     "execution_count": 70,
     "metadata": {},
     "output_type": "execute_result"
    }
   ],
   "source": [
    "test"
   ]
  },
  {
   "cell_type": "code",
   "execution_count": 71,
   "metadata": {},
   "outputs": [
    {
     "data": {
      "text/plain": [
       "array([0], dtype=int32)"
      ]
     },
     "execution_count": 71,
     "metadata": {},
     "output_type": "execute_result"
    }
   ],
   "source": [
    "classifier.predict(test)"
   ]
  },
  {
   "cell_type": "code",
   "execution_count": null,
   "metadata": {
    "collapsed": true
   },
   "outputs": [],
   "source": []
  },
  {
   "cell_type": "code",
   "execution_count": null,
   "metadata": {
    "collapsed": true
   },
   "outputs": [],
   "source": []
  },
  {
   "cell_type": "code",
   "execution_count": null,
   "metadata": {
    "collapsed": true
   },
   "outputs": [],
   "source": []
  },
  {
   "cell_type": "code",
   "execution_count": null,
   "metadata": {
    "collapsed": true
   },
   "outputs": [],
   "source": []
  },
  {
   "cell_type": "code",
   "execution_count": null,
   "metadata": {
    "collapsed": true
   },
   "outputs": [],
   "source": []
  },
  {
   "cell_type": "code",
   "execution_count": null,
   "metadata": {
    "collapsed": true
   },
   "outputs": [],
   "source": []
  },
  {
   "cell_type": "code",
   "execution_count": null,
   "metadata": {
    "collapsed": true
   },
   "outputs": [],
   "source": []
  },
  {
   "cell_type": "code",
   "execution_count": null,
   "metadata": {
    "collapsed": true
   },
   "outputs": [],
   "source": []
  },
  {
   "cell_type": "code",
   "execution_count": null,
   "metadata": {
    "collapsed": true
   },
   "outputs": [],
   "source": []
  }
 ],
 "metadata": {
  "kernelspec": {
   "display_name": "Python 3",
   "language": "python",
   "name": "python3"
  },
  "language_info": {
   "codemirror_mode": {
    "name": "ipython",
    "version": 3
   },
   "file_extension": ".py",
   "mimetype": "text/x-python",
   "name": "python",
   "nbconvert_exporter": "python",
   "pygments_lexer": "ipython3",
   "version": "3.6.3"
  }
 },
 "nbformat": 4,
 "nbformat_minor": 1
}
