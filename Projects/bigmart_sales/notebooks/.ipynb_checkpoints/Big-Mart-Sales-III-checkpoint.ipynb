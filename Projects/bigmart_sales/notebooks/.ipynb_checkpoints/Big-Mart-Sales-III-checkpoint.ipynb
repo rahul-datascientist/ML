{
 "cells": [
  {
   "cell_type": "code",
   "execution_count": 1,
   "metadata": {},
   "outputs": [],
   "source": [
    "import pandas as pd\n",
    "import numpy as np\n",
    "import matplotlib.pyplot as plt\n",
    "import seaborn as sns\n",
    "%matplotlib inline"
   ]
  },
  {
   "cell_type": "code",
   "execution_count": 2,
   "metadata": {},
   "outputs": [
    {
     "name": "stdout",
     "output_type": "stream",
     "text": [
      "(8523, 13)\n"
     ]
    }
   ],
   "source": [
    "Sales_train=pd.read_csv('../data/raw/Train_UWu5bXk.csv')\n",
    "\n",
    "#Sales_train = pd.read_csv(\"Data/Train.csv\")\n",
    "Sales_train[\"Type\"] = \"train\"\n",
    "print(Sales_train.shape)"
   ]
  },
  {
   "cell_type": "code",
   "execution_count": 3,
   "metadata": {},
   "outputs": [
    {
     "name": "stdout",
     "output_type": "stream",
     "text": [
      "(5681, 12)\n"
     ]
    }
   ],
   "source": [
    "Sales_test=pd.read_csv('../data/raw/Test_u94Q5KV.csv')\n",
    "#Sales_test = pd.read_csv(\"Data/Test.csv\")\n",
    "Sales_test[\"Type\"] = \"test\"\n",
    "print(Sales_test.shape)\n",
    "\n",
    "Data_Predicted = Sales_test.loc[:,[\"Item_Identifier\",\"Outlet_Identifier\",\"Item_MRP\"]]  ## will use later while prediction\n",
    "#Data_Predicted.head()"
   ]
  },
  {
   "cell_type": "code",
   "execution_count": 4,
   "metadata": {
    "scrolled": true
   },
   "outputs": [
    {
     "name": "stdout",
     "output_type": "stream",
     "text": [
      "(14204, 13)\n"
     ]
    },
    {
     "data": {
      "text/html": [
       "<div>\n",
       "<style scoped>\n",
       "    .dataframe tbody tr th:only-of-type {\n",
       "        vertical-align: middle;\n",
       "    }\n",
       "\n",
       "    .dataframe tbody tr th {\n",
       "        vertical-align: top;\n",
       "    }\n",
       "\n",
       "    .dataframe thead th {\n",
       "        text-align: right;\n",
       "    }\n",
       "</style>\n",
       "<table border=\"1\" class=\"dataframe\">\n",
       "  <thead>\n",
       "    <tr style=\"text-align: right;\">\n",
       "      <th></th>\n",
       "      <th>Item_Fat_Content</th>\n",
       "      <th>Item_Identifier</th>\n",
       "      <th>Item_MRP</th>\n",
       "      <th>Item_Outlet_Sales</th>\n",
       "      <th>Item_Type</th>\n",
       "      <th>Item_Visibility</th>\n",
       "      <th>Item_Weight</th>\n",
       "      <th>Outlet_Establishment_Year</th>\n",
       "      <th>Outlet_Identifier</th>\n",
       "      <th>Outlet_Location_Type</th>\n",
       "      <th>Outlet_Size</th>\n",
       "      <th>Outlet_Type</th>\n",
       "      <th>Type</th>\n",
       "    </tr>\n",
       "  </thead>\n",
       "  <tbody>\n",
       "    <tr>\n",
       "      <th>14199</th>\n",
       "      <td>Regular</td>\n",
       "      <td>FDB58</td>\n",
       "      <td>141.3154</td>\n",
       "      <td>NaN</td>\n",
       "      <td>Snack Foods</td>\n",
       "      <td>0.013496</td>\n",
       "      <td>10.5</td>\n",
       "      <td>1997</td>\n",
       "      <td>OUT046</td>\n",
       "      <td>Tier 1</td>\n",
       "      <td>Small</td>\n",
       "      <td>Supermarket Type1</td>\n",
       "      <td>test</td>\n",
       "    </tr>\n",
       "    <tr>\n",
       "      <th>14200</th>\n",
       "      <td>Regular</td>\n",
       "      <td>FDD47</td>\n",
       "      <td>169.1448</td>\n",
       "      <td>NaN</td>\n",
       "      <td>Starchy Foods</td>\n",
       "      <td>0.142991</td>\n",
       "      <td>7.6</td>\n",
       "      <td>2009</td>\n",
       "      <td>OUT018</td>\n",
       "      <td>Tier 3</td>\n",
       "      <td>Medium</td>\n",
       "      <td>Supermarket Type2</td>\n",
       "      <td>test</td>\n",
       "    </tr>\n",
       "    <tr>\n",
       "      <th>14201</th>\n",
       "      <td>Low Fat</td>\n",
       "      <td>NCO17</td>\n",
       "      <td>118.7440</td>\n",
       "      <td>NaN</td>\n",
       "      <td>Health and Hygiene</td>\n",
       "      <td>0.073529</td>\n",
       "      <td>10.0</td>\n",
       "      <td>2002</td>\n",
       "      <td>OUT045</td>\n",
       "      <td>Tier 2</td>\n",
       "      <td>NaN</td>\n",
       "      <td>Supermarket Type1</td>\n",
       "      <td>test</td>\n",
       "    </tr>\n",
       "    <tr>\n",
       "      <th>14202</th>\n",
       "      <td>Regular</td>\n",
       "      <td>FDJ26</td>\n",
       "      <td>214.6218</td>\n",
       "      <td>NaN</td>\n",
       "      <td>Canned</td>\n",
       "      <td>0.000000</td>\n",
       "      <td>15.3</td>\n",
       "      <td>2007</td>\n",
       "      <td>OUT017</td>\n",
       "      <td>Tier 2</td>\n",
       "      <td>NaN</td>\n",
       "      <td>Supermarket Type1</td>\n",
       "      <td>test</td>\n",
       "    </tr>\n",
       "    <tr>\n",
       "      <th>14203</th>\n",
       "      <td>Regular</td>\n",
       "      <td>FDU37</td>\n",
       "      <td>79.7960</td>\n",
       "      <td>NaN</td>\n",
       "      <td>Canned</td>\n",
       "      <td>0.104720</td>\n",
       "      <td>9.5</td>\n",
       "      <td>2002</td>\n",
       "      <td>OUT045</td>\n",
       "      <td>Tier 2</td>\n",
       "      <td>NaN</td>\n",
       "      <td>Supermarket Type1</td>\n",
       "      <td>test</td>\n",
       "    </tr>\n",
       "  </tbody>\n",
       "</table>\n",
       "</div>"
      ],
      "text/plain": [
       "      Item_Fat_Content Item_Identifier  Item_MRP  Item_Outlet_Sales  \\\n",
       "14199          Regular           FDB58  141.3154                NaN   \n",
       "14200          Regular           FDD47  169.1448                NaN   \n",
       "14201          Low Fat           NCO17  118.7440                NaN   \n",
       "14202          Regular           FDJ26  214.6218                NaN   \n",
       "14203          Regular           FDU37   79.7960                NaN   \n",
       "\n",
       "                Item_Type  Item_Visibility  Item_Weight  \\\n",
       "14199         Snack Foods         0.013496         10.5   \n",
       "14200       Starchy Foods         0.142991          7.6   \n",
       "14201  Health and Hygiene         0.073529         10.0   \n",
       "14202              Canned         0.000000         15.3   \n",
       "14203              Canned         0.104720          9.5   \n",
       "\n",
       "       Outlet_Establishment_Year Outlet_Identifier Outlet_Location_Type  \\\n",
       "14199                       1997            OUT046               Tier 1   \n",
       "14200                       2009            OUT018               Tier 3   \n",
       "14201                       2002            OUT045               Tier 2   \n",
       "14202                       2007            OUT017               Tier 2   \n",
       "14203                       2002            OUT045               Tier 2   \n",
       "\n",
       "      Outlet_Size        Outlet_Type  Type  \n",
       "14199       Small  Supermarket Type1  test  \n",
       "14200      Medium  Supermarket Type2  test  \n",
       "14201         NaN  Supermarket Type1  test  \n",
       "14202         NaN  Supermarket Type1  test  \n",
       "14203         NaN  Supermarket Type1  test  "
      ]
     },
     "execution_count": 4,
     "metadata": {},
     "output_type": "execute_result"
    }
   ],
   "source": [
    "dframes = [Sales_train,Sales_test]\n",
    "Sales = pd.concat(dframes,ignore_index = True)\n",
    "print(Sales.shape)\n",
    "Sales.tail()"
   ]
  },
  {
   "cell_type": "code",
   "execution_count": 5,
   "metadata": {},
   "outputs": [
    {
     "data": {
      "text/html": [
       "<div>\n",
       "<style scoped>\n",
       "    .dataframe tbody tr th:only-of-type {\n",
       "        vertical-align: middle;\n",
       "    }\n",
       "\n",
       "    .dataframe tbody tr th {\n",
       "        vertical-align: top;\n",
       "    }\n",
       "\n",
       "    .dataframe thead th {\n",
       "        text-align: right;\n",
       "    }\n",
       "</style>\n",
       "<table border=\"1\" class=\"dataframe\">\n",
       "  <thead>\n",
       "    <tr style=\"text-align: right;\">\n",
       "      <th></th>\n",
       "      <th>Item_Fat_Content</th>\n",
       "      <th>Item_Identifier</th>\n",
       "      <th>Item_MRP</th>\n",
       "      <th>Item_Outlet_Sales</th>\n",
       "      <th>Item_Type</th>\n",
       "      <th>Item_Visibility</th>\n",
       "      <th>Item_Weight</th>\n",
       "      <th>Outlet_Establishment_Year</th>\n",
       "      <th>Outlet_Identifier</th>\n",
       "      <th>Outlet_Location_Type</th>\n",
       "      <th>Outlet_Size</th>\n",
       "      <th>Outlet_Type</th>\n",
       "      <th>Type</th>\n",
       "    </tr>\n",
       "  </thead>\n",
       "  <tbody>\n",
       "    <tr>\n",
       "      <th>count</th>\n",
       "      <td>14204</td>\n",
       "      <td>14204</td>\n",
       "      <td>14204.000000</td>\n",
       "      <td>8523.000000</td>\n",
       "      <td>14204</td>\n",
       "      <td>14204.000000</td>\n",
       "      <td>11765.000000</td>\n",
       "      <td>14204.000000</td>\n",
       "      <td>14204</td>\n",
       "      <td>14204</td>\n",
       "      <td>10188</td>\n",
       "      <td>14204</td>\n",
       "      <td>14204</td>\n",
       "    </tr>\n",
       "    <tr>\n",
       "      <th>unique</th>\n",
       "      <td>5</td>\n",
       "      <td>1559</td>\n",
       "      <td>NaN</td>\n",
       "      <td>NaN</td>\n",
       "      <td>16</td>\n",
       "      <td>NaN</td>\n",
       "      <td>NaN</td>\n",
       "      <td>NaN</td>\n",
       "      <td>10</td>\n",
       "      <td>3</td>\n",
       "      <td>3</td>\n",
       "      <td>4</td>\n",
       "      <td>2</td>\n",
       "    </tr>\n",
       "    <tr>\n",
       "      <th>top</th>\n",
       "      <td>Low Fat</td>\n",
       "      <td>DRH39</td>\n",
       "      <td>NaN</td>\n",
       "      <td>NaN</td>\n",
       "      <td>Fruits and Vegetables</td>\n",
       "      <td>NaN</td>\n",
       "      <td>NaN</td>\n",
       "      <td>NaN</td>\n",
       "      <td>OUT027</td>\n",
       "      <td>Tier 3</td>\n",
       "      <td>Medium</td>\n",
       "      <td>Supermarket Type1</td>\n",
       "      <td>train</td>\n",
       "    </tr>\n",
       "    <tr>\n",
       "      <th>freq</th>\n",
       "      <td>8485</td>\n",
       "      <td>10</td>\n",
       "      <td>NaN</td>\n",
       "      <td>NaN</td>\n",
       "      <td>2013</td>\n",
       "      <td>NaN</td>\n",
       "      <td>NaN</td>\n",
       "      <td>NaN</td>\n",
       "      <td>1559</td>\n",
       "      <td>5583</td>\n",
       "      <td>4655</td>\n",
       "      <td>9294</td>\n",
       "      <td>8523</td>\n",
       "    </tr>\n",
       "    <tr>\n",
       "      <th>mean</th>\n",
       "      <td>NaN</td>\n",
       "      <td>NaN</td>\n",
       "      <td>141.004977</td>\n",
       "      <td>2181.288914</td>\n",
       "      <td>NaN</td>\n",
       "      <td>0.065953</td>\n",
       "      <td>12.792854</td>\n",
       "      <td>1997.830681</td>\n",
       "      <td>NaN</td>\n",
       "      <td>NaN</td>\n",
       "      <td>NaN</td>\n",
       "      <td>NaN</td>\n",
       "      <td>NaN</td>\n",
       "    </tr>\n",
       "    <tr>\n",
       "      <th>std</th>\n",
       "      <td>NaN</td>\n",
       "      <td>NaN</td>\n",
       "      <td>62.086938</td>\n",
       "      <td>1706.499616</td>\n",
       "      <td>NaN</td>\n",
       "      <td>0.051459</td>\n",
       "      <td>4.652502</td>\n",
       "      <td>8.371664</td>\n",
       "      <td>NaN</td>\n",
       "      <td>NaN</td>\n",
       "      <td>NaN</td>\n",
       "      <td>NaN</td>\n",
       "      <td>NaN</td>\n",
       "    </tr>\n",
       "    <tr>\n",
       "      <th>min</th>\n",
       "      <td>NaN</td>\n",
       "      <td>NaN</td>\n",
       "      <td>31.290000</td>\n",
       "      <td>33.290000</td>\n",
       "      <td>NaN</td>\n",
       "      <td>0.000000</td>\n",
       "      <td>4.555000</td>\n",
       "      <td>1985.000000</td>\n",
       "      <td>NaN</td>\n",
       "      <td>NaN</td>\n",
       "      <td>NaN</td>\n",
       "      <td>NaN</td>\n",
       "      <td>NaN</td>\n",
       "    </tr>\n",
       "    <tr>\n",
       "      <th>25%</th>\n",
       "      <td>NaN</td>\n",
       "      <td>NaN</td>\n",
       "      <td>94.012000</td>\n",
       "      <td>834.247400</td>\n",
       "      <td>NaN</td>\n",
       "      <td>0.027036</td>\n",
       "      <td>8.710000</td>\n",
       "      <td>1987.000000</td>\n",
       "      <td>NaN</td>\n",
       "      <td>NaN</td>\n",
       "      <td>NaN</td>\n",
       "      <td>NaN</td>\n",
       "      <td>NaN</td>\n",
       "    </tr>\n",
       "    <tr>\n",
       "      <th>50%</th>\n",
       "      <td>NaN</td>\n",
       "      <td>NaN</td>\n",
       "      <td>142.247000</td>\n",
       "      <td>1794.331000</td>\n",
       "      <td>NaN</td>\n",
       "      <td>0.054021</td>\n",
       "      <td>12.600000</td>\n",
       "      <td>1999.000000</td>\n",
       "      <td>NaN</td>\n",
       "      <td>NaN</td>\n",
       "      <td>NaN</td>\n",
       "      <td>NaN</td>\n",
       "      <td>NaN</td>\n",
       "    </tr>\n",
       "    <tr>\n",
       "      <th>75%</th>\n",
       "      <td>NaN</td>\n",
       "      <td>NaN</td>\n",
       "      <td>185.855600</td>\n",
       "      <td>3101.296400</td>\n",
       "      <td>NaN</td>\n",
       "      <td>0.094037</td>\n",
       "      <td>16.750000</td>\n",
       "      <td>2004.000000</td>\n",
       "      <td>NaN</td>\n",
       "      <td>NaN</td>\n",
       "      <td>NaN</td>\n",
       "      <td>NaN</td>\n",
       "      <td>NaN</td>\n",
       "    </tr>\n",
       "    <tr>\n",
       "      <th>max</th>\n",
       "      <td>NaN</td>\n",
       "      <td>NaN</td>\n",
       "      <td>266.888400</td>\n",
       "      <td>13086.964800</td>\n",
       "      <td>NaN</td>\n",
       "      <td>0.328391</td>\n",
       "      <td>21.350000</td>\n",
       "      <td>2009.000000</td>\n",
       "      <td>NaN</td>\n",
       "      <td>NaN</td>\n",
       "      <td>NaN</td>\n",
       "      <td>NaN</td>\n",
       "      <td>NaN</td>\n",
       "    </tr>\n",
       "  </tbody>\n",
       "</table>\n",
       "</div>"
      ],
      "text/plain": [
       "       Item_Fat_Content Item_Identifier      Item_MRP  Item_Outlet_Sales  \\\n",
       "count             14204           14204  14204.000000        8523.000000   \n",
       "unique                5            1559           NaN                NaN   \n",
       "top             Low Fat           DRH39           NaN                NaN   \n",
       "freq               8485              10           NaN                NaN   \n",
       "mean                NaN             NaN    141.004977        2181.288914   \n",
       "std                 NaN             NaN     62.086938        1706.499616   \n",
       "min                 NaN             NaN     31.290000          33.290000   \n",
       "25%                 NaN             NaN     94.012000         834.247400   \n",
       "50%                 NaN             NaN    142.247000        1794.331000   \n",
       "75%                 NaN             NaN    185.855600        3101.296400   \n",
       "max                 NaN             NaN    266.888400       13086.964800   \n",
       "\n",
       "                    Item_Type  Item_Visibility   Item_Weight  \\\n",
       "count                   14204     14204.000000  11765.000000   \n",
       "unique                     16              NaN           NaN   \n",
       "top     Fruits and Vegetables              NaN           NaN   \n",
       "freq                     2013              NaN           NaN   \n",
       "mean                      NaN         0.065953     12.792854   \n",
       "std                       NaN         0.051459      4.652502   \n",
       "min                       NaN         0.000000      4.555000   \n",
       "25%                       NaN         0.027036      8.710000   \n",
       "50%                       NaN         0.054021     12.600000   \n",
       "75%                       NaN         0.094037     16.750000   \n",
       "max                       NaN         0.328391     21.350000   \n",
       "\n",
       "        Outlet_Establishment_Year Outlet_Identifier Outlet_Location_Type  \\\n",
       "count                14204.000000             14204                14204   \n",
       "unique                        NaN                10                    3   \n",
       "top                           NaN            OUT027               Tier 3   \n",
       "freq                          NaN              1559                 5583   \n",
       "mean                  1997.830681               NaN                  NaN   \n",
       "std                      8.371664               NaN                  NaN   \n",
       "min                   1985.000000               NaN                  NaN   \n",
       "25%                   1987.000000               NaN                  NaN   \n",
       "50%                   1999.000000               NaN                  NaN   \n",
       "75%                   2004.000000               NaN                  NaN   \n",
       "max                   2009.000000               NaN                  NaN   \n",
       "\n",
       "       Outlet_Size        Outlet_Type   Type  \n",
       "count        10188              14204  14204  \n",
       "unique           3                  4      2  \n",
       "top         Medium  Supermarket Type1  train  \n",
       "freq          4655               9294   8523  \n",
       "mean           NaN                NaN    NaN  \n",
       "std            NaN                NaN    NaN  \n",
       "min            NaN                NaN    NaN  \n",
       "25%            NaN                NaN    NaN  \n",
       "50%            NaN                NaN    NaN  \n",
       "75%            NaN                NaN    NaN  \n",
       "max            NaN                NaN    NaN  "
      ]
     },
     "execution_count": 5,
     "metadata": {},
     "output_type": "execute_result"
    }
   ],
   "source": [
    "Sales.describe(include=\"all\")"
   ]
  },
  {
   "cell_type": "markdown",
   "metadata": {},
   "source": [
    "## Visibility can't be 0\n",
    "###### hence imputing it"
   ]
  },
  {
   "cell_type": "code",
   "execution_count": 6,
   "metadata": {},
   "outputs": [
    {
     "data": {
      "text/plain": [
       "count    14204.000000\n",
       "mean         0.065953\n",
       "std          0.051459\n",
       "min          0.000000\n",
       "25%          0.027036\n",
       "50%          0.054021\n",
       "75%          0.094037\n",
       "max          0.328391\n",
       "Name: Item_Visibility, dtype: float64"
      ]
     },
     "execution_count": 6,
     "metadata": {},
     "output_type": "execute_result"
    }
   ],
   "source": [
    "Sales[\"Item_Visibility\"].describe()"
   ]
  },
  {
   "cell_type": "code",
   "execution_count": 7,
   "metadata": {},
   "outputs": [
    {
     "data": {
      "text/plain": [
       "count    14204.000000\n",
       "mean         0.070458\n",
       "std          0.050086\n",
       "min          0.003575\n",
       "25%          0.031381\n",
       "50%          0.058064\n",
       "75%          0.098042\n",
       "max          0.328391\n",
       "Name: Item_Visibility, dtype: float64"
      ]
     },
     "execution_count": 7,
     "metadata": {},
     "output_type": "execute_result"
    }
   ],
   "source": [
    "UniqueItems = set(Sales.Item_Identifier)\n",
    "for each in UniqueItems:\n",
    "    Sales.loc[(Sales[\"Item_Identifier\"]==str(each)) & (Sales[\"Item_Visibility\"]==0),\"Item_Visibility\"] = Sales.loc[(Sales[\"Item_Identifier\"]==str(each)) & (Sales[\"Item_Visibility\"]!=0),\"Item_Visibility\"].mean()\n",
    "Sales[\"Item_Visibility\"].describe()"
   ]
  },
  {
   "cell_type": "markdown",
   "metadata": {},
   "source": [
    "### Adding new feature Quantity Sold"
   ]
  },
  {
   "cell_type": "code",
   "execution_count": 8,
   "metadata": {},
   "outputs": [
    {
     "data": {
      "text/html": [
       "<div>\n",
       "<style scoped>\n",
       "    .dataframe tbody tr th:only-of-type {\n",
       "        vertical-align: middle;\n",
       "    }\n",
       "\n",
       "    .dataframe tbody tr th {\n",
       "        vertical-align: top;\n",
       "    }\n",
       "\n",
       "    .dataframe thead th {\n",
       "        text-align: right;\n",
       "    }\n",
       "</style>\n",
       "<table border=\"1\" class=\"dataframe\">\n",
       "  <thead>\n",
       "    <tr style=\"text-align: right;\">\n",
       "      <th></th>\n",
       "      <th>Item_Fat_Content</th>\n",
       "      <th>Item_Identifier</th>\n",
       "      <th>Item_MRP</th>\n",
       "      <th>Item_Outlet_Sales</th>\n",
       "      <th>Item_Type</th>\n",
       "      <th>Item_Visibility</th>\n",
       "      <th>Item_Weight</th>\n",
       "      <th>Outlet_Establishment_Year</th>\n",
       "      <th>Outlet_Identifier</th>\n",
       "      <th>Outlet_Location_Type</th>\n",
       "      <th>Outlet_Size</th>\n",
       "      <th>Outlet_Type</th>\n",
       "      <th>Type</th>\n",
       "      <th>Qty_Sold</th>\n",
       "    </tr>\n",
       "  </thead>\n",
       "  <tbody>\n",
       "    <tr>\n",
       "      <th>0</th>\n",
       "      <td>Low Fat</td>\n",
       "      <td>FDA15</td>\n",
       "      <td>249.8092</td>\n",
       "      <td>3735.1380</td>\n",
       "      <td>Dairy</td>\n",
       "      <td>0.016047</td>\n",
       "      <td>9.30</td>\n",
       "      <td>1999</td>\n",
       "      <td>OUT049</td>\n",
       "      <td>Tier 1</td>\n",
       "      <td>Medium</td>\n",
       "      <td>Supermarket Type1</td>\n",
       "      <td>train</td>\n",
       "      <td>14.951963</td>\n",
       "    </tr>\n",
       "    <tr>\n",
       "      <th>1</th>\n",
       "      <td>Regular</td>\n",
       "      <td>DRC01</td>\n",
       "      <td>48.2692</td>\n",
       "      <td>443.4228</td>\n",
       "      <td>Soft Drinks</td>\n",
       "      <td>0.019278</td>\n",
       "      <td>5.92</td>\n",
       "      <td>2009</td>\n",
       "      <td>OUT018</td>\n",
       "      <td>Tier 3</td>\n",
       "      <td>Medium</td>\n",
       "      <td>Supermarket Type2</td>\n",
       "      <td>train</td>\n",
       "      <td>9.186454</td>\n",
       "    </tr>\n",
       "    <tr>\n",
       "      <th>2</th>\n",
       "      <td>Low Fat</td>\n",
       "      <td>FDN15</td>\n",
       "      <td>141.6180</td>\n",
       "      <td>2097.2700</td>\n",
       "      <td>Meat</td>\n",
       "      <td>0.016760</td>\n",
       "      <td>17.50</td>\n",
       "      <td>1999</td>\n",
       "      <td>OUT049</td>\n",
       "      <td>Tier 1</td>\n",
       "      <td>Medium</td>\n",
       "      <td>Supermarket Type1</td>\n",
       "      <td>train</td>\n",
       "      <td>14.809346</td>\n",
       "    </tr>\n",
       "    <tr>\n",
       "      <th>3</th>\n",
       "      <td>Regular</td>\n",
       "      <td>FDX07</td>\n",
       "      <td>182.0950</td>\n",
       "      <td>732.3800</td>\n",
       "      <td>Fruits and Vegetables</td>\n",
       "      <td>0.022930</td>\n",
       "      <td>19.20</td>\n",
       "      <td>1998</td>\n",
       "      <td>OUT010</td>\n",
       "      <td>Tier 3</td>\n",
       "      <td>NaN</td>\n",
       "      <td>Grocery Store</td>\n",
       "      <td>train</td>\n",
       "      <td>4.021967</td>\n",
       "    </tr>\n",
       "    <tr>\n",
       "      <th>4</th>\n",
       "      <td>Low Fat</td>\n",
       "      <td>NCD19</td>\n",
       "      <td>53.8614</td>\n",
       "      <td>994.7052</td>\n",
       "      <td>Household</td>\n",
       "      <td>0.014670</td>\n",
       "      <td>8.93</td>\n",
       "      <td>1987</td>\n",
       "      <td>OUT013</td>\n",
       "      <td>Tier 3</td>\n",
       "      <td>High</td>\n",
       "      <td>Supermarket Type1</td>\n",
       "      <td>train</td>\n",
       "      <td>18.467868</td>\n",
       "    </tr>\n",
       "  </tbody>\n",
       "</table>\n",
       "</div>"
      ],
      "text/plain": [
       "  Item_Fat_Content Item_Identifier  Item_MRP  Item_Outlet_Sales  \\\n",
       "0          Low Fat           FDA15  249.8092          3735.1380   \n",
       "1          Regular           DRC01   48.2692           443.4228   \n",
       "2          Low Fat           FDN15  141.6180          2097.2700   \n",
       "3          Regular           FDX07  182.0950           732.3800   \n",
       "4          Low Fat           NCD19   53.8614           994.7052   \n",
       "\n",
       "               Item_Type  Item_Visibility  Item_Weight  \\\n",
       "0                  Dairy         0.016047         9.30   \n",
       "1            Soft Drinks         0.019278         5.92   \n",
       "2                   Meat         0.016760        17.50   \n",
       "3  Fruits and Vegetables         0.022930        19.20   \n",
       "4              Household         0.014670         8.93   \n",
       "\n",
       "   Outlet_Establishment_Year Outlet_Identifier Outlet_Location_Type  \\\n",
       "0                       1999            OUT049               Tier 1   \n",
       "1                       2009            OUT018               Tier 3   \n",
       "2                       1999            OUT049               Tier 1   \n",
       "3                       1998            OUT010               Tier 3   \n",
       "4                       1987            OUT013               Tier 3   \n",
       "\n",
       "  Outlet_Size        Outlet_Type   Type   Qty_Sold  \n",
       "0      Medium  Supermarket Type1  train  14.951963  \n",
       "1      Medium  Supermarket Type2  train   9.186454  \n",
       "2      Medium  Supermarket Type1  train  14.809346  \n",
       "3         NaN      Grocery Store  train   4.021967  \n",
       "4        High  Supermarket Type1  train  18.467868  "
      ]
     },
     "execution_count": 8,
     "metadata": {},
     "output_type": "execute_result"
    }
   ],
   "source": [
    "Sales[\"Qty_Sold\"] = (Sales[\"Item_Outlet_Sales\"]/Sales[\"Item_MRP\"])\n",
    "Sales.head()"
   ]
  },
  {
   "cell_type": "code",
   "execution_count": 9,
   "metadata": {},
   "outputs": [
    {
     "data": {
      "text/plain": [
       "Item_Fat_Content                0\n",
       "Item_Identifier                 0\n",
       "Item_MRP                        0\n",
       "Item_Outlet_Sales            5681\n",
       "Item_Type                       0\n",
       "Item_Visibility                 0\n",
       "Item_Weight                  2439\n",
       "Outlet_Establishment_Year       0\n",
       "Outlet_Identifier               0\n",
       "Outlet_Location_Type            0\n",
       "Outlet_Size                  4016\n",
       "Outlet_Type                     0\n",
       "Type                            0\n",
       "Qty_Sold                     5681\n",
       "dtype: int64"
      ]
     },
     "execution_count": 9,
     "metadata": {},
     "output_type": "execute_result"
    }
   ],
   "source": [
    "Sales.isnull().sum()"
   ]
  },
  {
   "cell_type": "markdown",
   "metadata": {},
   "source": [
    "### To impute \"Item_Weight\", we are filtering the data for each unique \"Item_Identifier\" and then assigning the mean value of that category to the one which is \"NA\""
   ]
  },
  {
   "cell_type": "code",
   "execution_count": null,
   "metadata": {},
   "outputs": [],
   "source": [
    "for each in UniqueItems:\n",
    "    Sales.loc[(Sales[\"Item_Identifier\"]==str(each)) & (Sales[\"Item_Weight\"].isnull()),\"Item_Weight\"] = Sales.loc[Sales[\"Item_Identifier\"]==str(each),\"Item_Weight\"].mode()[0]"
   ]
  },
  {
   "cell_type": "markdown",
   "metadata": {},
   "source": [
    "### cheking the imputation"
   ]
  },
  {
   "cell_type": "code",
   "execution_count": null,
   "metadata": {},
   "outputs": [],
   "source": [
    "Sales.Item_Weight.isnull().sum()"
   ]
  },
  {
   "cell_type": "markdown",
   "metadata": {},
   "source": [
    "### Changing the Year Establishment year to Age"
   ]
  },
  {
   "cell_type": "code",
   "execution_count": null,
   "metadata": {},
   "outputs": [],
   "source": [
    "import datetime\n",
    "now = datetime.datetime.now()\n",
    "now.year\n",
    "\n",
    "Sales[\"Outlet_Age\"] = now.year - Sales[\"Outlet_Establishment_Year\"]\n",
    "Sales[\"Outlet_Age\"].head()"
   ]
  },
  {
   "cell_type": "code",
   "execution_count": null,
   "metadata": {},
   "outputs": [],
   "source": []
  },
  {
   "cell_type": "code",
   "execution_count": null,
   "metadata": {},
   "outputs": [],
   "source": [
    "plt.figure(figsize=(10,7))\n",
    "sns.heatmap(Sales.corr())"
   ]
  },
  {
   "cell_type": "code",
   "execution_count": null,
   "metadata": {},
   "outputs": [],
   "source": [
    "Sales.describe(include=[\"object\"]).columns"
   ]
  },
  {
   "cell_type": "code",
   "execution_count": null,
   "metadata": {},
   "outputs": [],
   "source": [
    "Sales.Outlet_Size.value_counts()"
   ]
  },
  {
   "cell_type": "code",
   "execution_count": null,
   "metadata": {
    "scrolled": true
   },
   "outputs": [],
   "source": [
    "Sales.loc[Sales[\"Outlet_Size\"].isnull(),\"Outlet_Identifier\"].value_counts()"
   ]
  },
  {
   "cell_type": "code",
   "execution_count": null,
   "metadata": {},
   "outputs": [],
   "source": []
  },
  {
   "cell_type": "markdown",
   "metadata": {},
   "source": [
    "### Looking for pattern for the missing Outlet_size"
   ]
  },
  {
   "cell_type": "code",
   "execution_count": null,
   "metadata": {},
   "outputs": [],
   "source": [
    "Sales.loc[(Sales[\"Outlet_Size\"].isnull()) & (Sales[\"Outlet_Identifier\"] == \"OUT045\") ,].describe(include = [object])"
   ]
  },
  {
   "cell_type": "code",
   "execution_count": null,
   "metadata": {},
   "outputs": [],
   "source": [
    "Sales.loc[(Sales[\"Outlet_Size\"].isnull()) & (Sales[\"Outlet_Identifier\"] == \"OUT017\") ,].describe(include = [object])"
   ]
  },
  {
   "cell_type": "code",
   "execution_count": null,
   "metadata": {},
   "outputs": [],
   "source": [
    "Sales.loc[(Sales[\"Outlet_Size\"].isnull()) & (Sales[\"Outlet_Identifier\"] == \"OUT010\") ,].describe(include = [object])"
   ]
  },
  {
   "cell_type": "markdown",
   "metadata": {},
   "source": [
    "### As for OUT045 and OUT017; Outlet_Location_Type\tand Outlet_Type are same i.e. Tier 2 and Supermarket Type1, hence we can impute the data as per this"
   ]
  },
  {
   "cell_type": "code",
   "execution_count": null,
   "metadata": {},
   "outputs": [],
   "source": [
    "Sales.loc[(Sales[\"Outlet_Location_Type\"]== \"Tier 2\") & (Sales[\"Outlet_Type\"]==\"Supermarket Type1\") ,\"Outlet_Size\"].value_counts()"
   ]
  },
  {
   "cell_type": "code",
   "execution_count": null,
   "metadata": {},
   "outputs": [],
   "source": [
    "Sales.loc[(Sales[\"Outlet_Size\"].isnull()) & (Sales[\"Outlet_Identifier\"].isin([\"OUT045\",\"OUT017\"])) ,\"Outlet_Size\"] = \"Small\"\n",
    "Sales.loc[ (Sales[\"Outlet_Identifier\"].isin([\"OUT045\",\"OUT017\"])) ,\"Outlet_Size\"].value_counts()"
   ]
  },
  {
   "cell_type": "markdown",
   "metadata": {},
   "source": [
    "## for \"OUT010\""
   ]
  },
  {
   "cell_type": "code",
   "execution_count": null,
   "metadata": {},
   "outputs": [],
   "source": [
    "Sales.loc[(Sales[\"Outlet_Location_Type\"]== \"Tier 3\") & (Sales[\"Outlet_Type\"]==\"Grocery Store\") ,\"Outlet_Size\"].value_counts()"
   ]
  },
  {
   "cell_type": "code",
   "execution_count": null,
   "metadata": {},
   "outputs": [],
   "source": [
    "Sales.loc[(Sales[\"Outlet_Type\"]==\"Grocery Store\") ,\"Outlet_Size\"].value_counts()"
   ]
  },
  {
   "cell_type": "code",
   "execution_count": null,
   "metadata": {},
   "outputs": [],
   "source": [
    "Sales.loc[(Sales[\"Outlet_Location_Type\"]== \"Tier 3\") ,\"Outlet_Size\"].value_counts()"
   ]
  },
  {
   "cell_type": "code",
   "execution_count": null,
   "metadata": {},
   "outputs": [],
   "source": [
    "Sales.loc[Sales[\"Outlet_Size\"].isnull(),].shape"
   ]
  },
  {
   "cell_type": "code",
   "execution_count": null,
   "metadata": {},
   "outputs": [],
   "source": [
    "Sales['Item_Type'].value_counts()"
   ]
  },
  {
   "cell_type": "markdown",
   "metadata": {
    "collapsed": true
   },
   "source": [
    "### To impute \"Outlet_Size for OUT010\", we will build a classifier"
   ]
  },
  {
   "cell_type": "markdown",
   "metadata": {},
   "source": [
    "### Changing the categorical data to numeric/dummy"
   ]
  },
  {
   "cell_type": "markdown",
   "metadata": {},
   "source": [
    "##### imputing ordinal data"
   ]
  },
  {
   "cell_type": "code",
   "execution_count": null,
   "metadata": {},
   "outputs": [],
   "source": [
    "mapping_Item_Type = {'Fruits and Vegetables': \"Fruit_Veg\",\n",
    "                    'Household':\"HH_HH\", 'Health and Hygiene':\"HH_HH\",\n",
    "                    'Baking Goods': \"Bake_Snacks\", 'Snack Foods': \"Bake_Snacks\",\n",
    "                    'Canned': \"Frozen_Canned\", 'Frozen Foods': \"Frozen_Canned\",\n",
    "                    'Dairy': \"DBBS\", 'Breakfast': \"DBBS\", 'Breads': \"DBBS\", 'Starchy Foods': \"DBBS\",\n",
    "                    'Seafood':\"Seafood_Meat\", 'Meat': \"Seafood_Meat\",\n",
    "                    'Hard Drinks': \"Drinks\", 'Soft Drinks': \"Drinks\",\n",
    "                    'Others':\"Others\"}\n",
    "Sales['Item_Type'] = Sales['Item_Type'].map(mapping_Item_Type)\n",
    "\n",
    "mapping_Item_Fat_Content = {'Regular': 1, \"reg\": 1,'LF': 0,'Low Fat': 0, \"low fat\":0}\n",
    "Sales['Item_Fat_Content'] = Sales['Item_Fat_Content'].map(mapping_Item_Fat_Content)\n",
    "\n",
    "mapping_Outlet_Size = {'Small': 1, \"Medium\": 2,'High': 3}\n",
    "Sales['Outlet_Size'] = Sales['Outlet_Size'].map(mapping_Outlet_Size)"
   ]
  },
  {
   "cell_type": "code",
   "execution_count": null,
   "metadata": {},
   "outputs": [],
   "source": [
    "Sales.head()"
   ]
  },
  {
   "cell_type": "markdown",
   "metadata": {},
   "source": [
    "##### imputing nominal data"
   ]
  },
  {
   "cell_type": "code",
   "execution_count": null,
   "metadata": {},
   "outputs": [],
   "source": [
    "Sales = pd.get_dummies(Sales,columns=[\"Item_Type\",\"Outlet_Identifier\",\"Outlet_Location_Type\",\"Outlet_Type\"],drop_first=True)"
   ]
  },
  {
   "cell_type": "code",
   "execution_count": null,
   "metadata": {
    "scrolled": true
   },
   "outputs": [],
   "source": [
    "Sales.head()"
   ]
  },
  {
   "cell_type": "code",
   "execution_count": null,
   "metadata": {},
   "outputs": [],
   "source": [
    "Sales.columns"
   ]
  },
  {
   "cell_type": "code",
   "execution_count": null,
   "metadata": {},
   "outputs": [],
   "source": [
    "X_Cols = ['Item_Fat_Content', 'Item_MRP',\n",
    "       'Item_Visibility', 'Item_Weight',\n",
    "       'Qty_Sold', 'Outlet_Age', 'Item_Type_DBBS',\n",
    "       'Item_Type_Drinks', 'Item_Type_Frozen_Canned', 'Item_Type_Fruit_Veg',\n",
    "       'Item_Type_HH_HH', 'Item_Type_Others', 'Item_Type_Seafood_Meat',\n",
    "       'Outlet_Identifier_OUT013', 'Outlet_Identifier_OUT017',\n",
    "       'Outlet_Identifier_OUT018', 'Outlet_Identifier_OUT019',\n",
    "       'Outlet_Identifier_OUT027', 'Outlet_Identifier_OUT035',\n",
    "       'Outlet_Identifier_OUT045', 'Outlet_Identifier_OUT046',\n",
    "       'Outlet_Identifier_OUT049', 'Outlet_Location_Type_Tier 2',\n",
    "       'Outlet_Location_Type_Tier 3', 'Outlet_Type_Supermarket Type1',\n",
    "       'Outlet_Type_Supermarket Type2', 'Outlet_Type_Supermarket Type3']\n",
    "y_cols = 'Outlet_Size'"
   ]
  },
  {
   "cell_type": "code",
   "execution_count": null,
   "metadata": {},
   "outputs": [],
   "source": [
    "from sklearn.model_selection import train_test_split\n",
    "X = Sales.loc[(Sales[y_cols].notnull()) & (Sales['Type'] == \"train\"), X_Cols]\n",
    "y = Sales.loc[(Sales[y_cols].notnull()) & (Sales['Type'] == \"train\"), y_cols]\n",
    "X_train, X_test, y_train, y_test = train_test_split(X, y, test_size=0.3, random_state=20)"
   ]
  },
  {
   "cell_type": "code",
   "execution_count": null,
   "metadata": {},
   "outputs": [],
   "source": []
  },
  {
   "cell_type": "code",
   "execution_count": null,
   "metadata": {},
   "outputs": [],
   "source": [
    "print(\"Shape of X_train: \",X_train.shape)\n",
    "print(\"Shape of y_train: \",y_train.shape)\n",
    "print(\"Shape of X_test: \",X_test.shape)\n",
    "print(\"Shape of y_test: \",y_test.shape)"
   ]
  },
  {
   "cell_type": "code",
   "execution_count": null,
   "metadata": {},
   "outputs": [],
   "source": [
    "Sales[y_cols].value_counts()"
   ]
  },
  {
   "cell_type": "code",
   "execution_count": null,
   "metadata": {},
   "outputs": [],
   "source": []
  },
  {
   "cell_type": "markdown",
   "metadata": {},
   "source": [
    "### As there are 3 categories, we can use all the classificaition techniques except Logistic Regression"
   ]
  },
  {
   "cell_type": "markdown",
   "metadata": {},
   "source": [
    "## Trying K-Nearest Neighbours"
   ]
  },
  {
   "cell_type": "code",
   "execution_count": null,
   "metadata": {},
   "outputs": [],
   "source": [
    "from sklearn import metrics\n",
    "from sklearn.neighbors import KNeighborsClassifier\n",
    "KNeighborsClassifier()"
   ]
  },
  {
   "cell_type": "code",
   "execution_count": null,
   "metadata": {},
   "outputs": [],
   "source": [
    "def IdentifyKValueCrossValidation(X,Y,startK,endK,cv,scoring):\n",
    "    k_range = list(range(startK, endK+1))\n",
    "    k_scores = []\n",
    "    for k in k_range:\n",
    "        knn = KNeighborsClassifier(n_neighbors=k)\n",
    "        scores = cross_val_score(knn, X, Y, cv=cv, scoring=scoring)\n",
    "        k_scores.append(scores.mean())\n",
    "    z = [i for i, j in enumerate(k_scores) if j == max(k_scores)]\n",
    "    \n",
    "    print(\"Location for Max Accuaracy is:\")\n",
    "    \n",
    "    for i in z:\n",
    "        print(k_range[i])\n",
    "    \n",
    "    # plot the value of K for KNN (x-axis) versus the cross-validated accuracy (y-axis)\n",
    "    plt.plot(k_range, k_scores)\n",
    "    plt.xlabel('Value of K for KNN')\n",
    "    plt.ylabel('Cross-Validated Accuracy')\n",
    "    \n",
    "    return k_range[i]\n",
    "\n",
    "def metrices(Predicted,Actual):\n",
    "    print(\"Confusion Matrix for the model is:\\n\\n {}\".format(metrics.confusion_matrix(y_pred=Predicted,y_true=Actual)))\n",
    "    print(\"\\nAccuracy for the model is: {}\".format(metrics.accuracy_score(y_pred=Predicted, y_true= Actual)))\n",
    "    print(\"\\nArea under the curve for the model is: {}\".format(metrics.roc_auc_score(y_score=Predicted,y_true=Actual)))\n",
    "    print(\"\\nClassification Report for the model is:\\n {}\".format(metrics.classification_report(y_pred=Y_Predict,y_true=y_test)))"
   ]
  },
  {
   "cell_type": "code",
   "execution_count": null,
   "metadata": {},
   "outputs": [],
   "source": [
    "from sklearn.cross_validation import cross_val_score\n",
    "\n",
    "K = IdentifyKValueCrossValidation(X=X,Y=y,cv=5,startK=1,endK=50,scoring=\"accuracy\")\n",
    "print(\"Value of K with is: {}\".format(K))"
   ]
  },
  {
   "cell_type": "code",
   "execution_count": null,
   "metadata": {},
   "outputs": [],
   "source": [
    "knn = KNeighborsClassifier(n_neighbors=K)\n",
    "y_predicted = knn.fit(X_train,y_train).predict(X_test)\n",
    "print(\"Test Accuracy: \", (y_predicted == y_test).astype(int).sum()/y_test.shape[0])"
   ]
  },
  {
   "cell_type": "code",
   "execution_count": null,
   "metadata": {},
   "outputs": [],
   "source": [
    "pd.Series(knn.predict(X=Sales.loc[(Sales[y_cols].isnull()) & (Sales['Type'] == \"train\"), X_Cols])).value_counts()"
   ]
  },
  {
   "cell_type": "code",
   "execution_count": null,
   "metadata": {},
   "outputs": [],
   "source": []
  },
  {
   "cell_type": "markdown",
   "metadata": {},
   "source": [
    "### Multinomial Classifier"
   ]
  },
  {
   "cell_type": "code",
   "execution_count": null,
   "metadata": {},
   "outputs": [],
   "source": [
    "from sklearn.multiclass import OneVsOneClassifier\n",
    "from sklearn.svm import LinearSVC"
   ]
  },
  {
   "cell_type": "code",
   "execution_count": null,
   "metadata": {},
   "outputs": [],
   "source": [
    "md = OneVsOneClassifier(LinearSVC(random_state=0)).fit(X_train, y_train)"
   ]
  },
  {
   "cell_type": "code",
   "execution_count": null,
   "metadata": {},
   "outputs": [],
   "source": [
    "y_predicted = md.predict(X=X_test)\n",
    "print(\"Test Accuracy: \", (y_predicted == y_test).astype(int).sum()/y_test.shape[0])\n",
    "#pd.Series(y_predicted).value_counts()"
   ]
  },
  {
   "cell_type": "code",
   "execution_count": null,
   "metadata": {},
   "outputs": [],
   "source": [
    "pd.Series(md.predict(X=Sales.loc[(Sales[y_cols].isnull()) & (Sales['Type'] == \"train\"), X_Cols])).value_counts()"
   ]
  },
  {
   "cell_type": "code",
   "execution_count": null,
   "metadata": {},
   "outputs": [],
   "source": []
  },
  {
   "cell_type": "markdown",
   "metadata": {
    "collapsed": true
   },
   "source": [
    "### AdaBoost"
   ]
  },
  {
   "cell_type": "code",
   "execution_count": null,
   "metadata": {},
   "outputs": [],
   "source": [
    "from sklearn.ensemble import AdaBoostClassifier\n",
    "clf = AdaBoostClassifier(n_estimators=100)\n",
    "scores = cross_val_score(clf, X_train, y_train)\n",
    "scores.mean() "
   ]
  },
  {
   "cell_type": "code",
   "execution_count": null,
   "metadata": {},
   "outputs": [],
   "source": [
    "clf.fit(X_train, y_train)"
   ]
  },
  {
   "cell_type": "code",
   "execution_count": null,
   "metadata": {},
   "outputs": [],
   "source": [
    "pd.Series(clf.predict(X=Sales.loc[(Sales[y_cols].isnull()) & (Sales['Type'] == \"train\"), X_Cols])).value_counts()"
   ]
  },
  {
   "cell_type": "code",
   "execution_count": null,
   "metadata": {},
   "outputs": [],
   "source": []
  },
  {
   "cell_type": "code",
   "execution_count": null,
   "metadata": {},
   "outputs": [],
   "source": []
  },
  {
   "cell_type": "markdown",
   "metadata": {
    "collapsed": true
   },
   "source": [
    "### As majority of the predictions for Multinomial and AdaBoost was 100% accuracy were Medium, hence we will impute accordingly"
   ]
  },
  {
   "cell_type": "code",
   "execution_count": null,
   "metadata": {},
   "outputs": [],
   "source": [
    "Sales.loc[(Sales[\"Outlet_Size\"].isnull()),\"Outlet_Size\"] = 2\n",
    "Sales[\"Outlet_Size\"].value_counts()"
   ]
  },
  {
   "cell_type": "code",
   "execution_count": null,
   "metadata": {},
   "outputs": [],
   "source": [
    "Sales[\"Outlet_Size\"] = Sales[\"Outlet_Size\"].astype(int).astype(object)\n",
    "Sales[\"Outlet_Size\"].value_counts()"
   ]
  },
  {
   "cell_type": "code",
   "execution_count": null,
   "metadata": {},
   "outputs": [],
   "source": [
    "Sales.isnull().sum()"
   ]
  },
  {
   "cell_type": "markdown",
   "metadata": {},
   "source": [
    "## Hurray! Imputing is DONE!"
   ]
  },
  {
   "cell_type": "code",
   "execution_count": null,
   "metadata": {},
   "outputs": [],
   "source": [
    "from sklearn import metrics\n",
    "from sklearn.metrics import r2_score"
   ]
  },
  {
   "cell_type": "code",
   "execution_count": null,
   "metadata": {},
   "outputs": [],
   "source": [
    "Sales.columns"
   ]
  },
  {
   "cell_type": "code",
   "execution_count": null,
   "metadata": {},
   "outputs": [],
   "source": [
    "XCols = ['Item_Fat_Content', 'Item_MRP',\n",
    "       'Item_Visibility', 'Item_Weight',\n",
    "       'Outlet_Size', 'Outlet_Age', 'Item_Type_DBBS',\n",
    "       'Item_Type_Drinks', 'Item_Type_Frozen_Canned', 'Item_Type_Fruit_Veg',\n",
    "       'Item_Type_HH_HH', 'Item_Type_Others', 'Item_Type_Seafood_Meat',\n",
    "       'Outlet_Identifier_OUT013', 'Outlet_Identifier_OUT017',\n",
    "       'Outlet_Identifier_OUT018', 'Outlet_Identifier_OUT019',\n",
    "       'Outlet_Identifier_OUT027', 'Outlet_Identifier_OUT035',\n",
    "       'Outlet_Identifier_OUT045', 'Outlet_Identifier_OUT046',\n",
    "       'Outlet_Identifier_OUT049', 'Outlet_Location_Type_Tier 2',\n",
    "       'Outlet_Location_Type_Tier 3', 'Outlet_Type_Supermarket Type1',\n",
    "       'Outlet_Type_Supermarket Type2', 'Outlet_Type_Supermarket Type3']\n",
    "YCols = 'Qty_Sold'"
   ]
  },
  {
   "cell_type": "code",
   "execution_count": null,
   "metadata": {},
   "outputs": [],
   "source": [
    "XX = Sales.loc[Sales[\"Type\"]==\"train\",XCols]\n",
    "yy = Sales.loc[Sales[\"Type\"]==\"train\",YCols]\n",
    "print(XX.shape)\n",
    "print(yy.shape)\n",
    "XX_train, XX_test, yy_train, yy_test = train_test_split(XX, yy, test_size=0.3, random_state=5)"
   ]
  },
  {
   "cell_type": "markdown",
   "metadata": {},
   "source": [
    "### Linear Regression with all the columns"
   ]
  },
  {
   "cell_type": "code",
   "execution_count": null,
   "metadata": {},
   "outputs": [],
   "source": [
    "from sklearn import linear_model\n",
    "reg = linear_model.LinearRegression(fit_intercept=True,normalize=True)\n",
    "reg.fit (XX_train,yy_train)\n",
    "print(reg.intercept_)\n",
    "reg.coef_"
   ]
  },
  {
   "cell_type": "code",
   "execution_count": null,
   "metadata": {},
   "outputs": [],
   "source": [
    "print(len(reg.coef_))\n",
    "len(XCols)"
   ]
  },
  {
   "cell_type": "code",
   "execution_count": null,
   "metadata": {},
   "outputs": [],
   "source": [
    "coef1 = pd.DataFrame(reg.coef_,XCols,columns=[\"Value\"])\n",
    "#coef1[coef1[\"Value\"]>0].sort_values(by=\"Value\",ascending=False)"
   ]
  },
  {
   "cell_type": "code",
   "execution_count": null,
   "metadata": {},
   "outputs": [],
   "source": [
    "yy_predicted = reg.predict(XX_test)\n",
    "metrics.mean_squared_error(y_true=yy_test, y_pred=yy_predicted)"
   ]
  },
  {
   "cell_type": "code",
   "execution_count": null,
   "metadata": {},
   "outputs": [],
   "source": [
    "r2_score(yy_test, yy_predicted)"
   ]
  },
  {
   "cell_type": "code",
   "execution_count": null,
   "metadata": {},
   "outputs": [],
   "source": []
  },
  {
   "cell_type": "markdown",
   "metadata": {},
   "source": [
    "### LASSO"
   ]
  },
  {
   "cell_type": "code",
   "execution_count": null,
   "metadata": {},
   "outputs": [],
   "source": [
    "Lasso = linear_model.LassoCV(cv=5,normalize=True,random_state=10,alphas=[.0005])\n",
    "Lasso\n",
    "Lasso.fit(XX_train,yy_train)\n",
    "print(Lasso.intercept_)\n",
    "coef1 = pd.DataFrame(Lasso.coef_,XCols,columns=[\"Value\"])\n",
    "coef1[coef1[\"Value\"]>0].sort_values(by=\"Value\",ascending=False)"
   ]
  },
  {
   "cell_type": "code",
   "execution_count": null,
   "metadata": {},
   "outputs": [],
   "source": [
    "yy_predicted = Lasso.predict(XX_test)\n",
    "print(metrics.mean_squared_error(y_true=yy_test, y_pred=yy_predicted))\n",
    "print(r2_score(yy_test, yy_predicted))"
   ]
  },
  {
   "cell_type": "code",
   "execution_count": null,
   "metadata": {},
   "outputs": [],
   "source": [
    "Lasso.fit(XX,yy)"
   ]
  },
  {
   "cell_type": "code",
   "execution_count": null,
   "metadata": {},
   "outputs": [],
   "source": []
  },
  {
   "cell_type": "markdown",
   "metadata": {},
   "source": [
    "## Adaptive Boost"
   ]
  },
  {
   "cell_type": "code",
   "execution_count": null,
   "metadata": {},
   "outputs": [],
   "source": [
    "from sklearn.ensemble import AdaBoostRegressor\n",
    "regressor = AdaBoostRegressor(n_estimators=100,loss=\"linear\",learning_rate=.005)"
   ]
  },
  {
   "cell_type": "code",
   "execution_count": null,
   "metadata": {},
   "outputs": [],
   "source": [
    "regressor.fit(XX_train, yy_train)"
   ]
  },
  {
   "cell_type": "code",
   "execution_count": null,
   "metadata": {},
   "outputs": [],
   "source": [
    "yy_predicted = regressor.predict(XX_test)\n",
    "print(metrics.mean_squared_error(y_true=yy_test, y_pred=yy_predicted))\n",
    "print(r2_score(yy_test, yy_predicted))"
   ]
  },
  {
   "cell_type": "code",
   "execution_count": null,
   "metadata": {},
   "outputs": [],
   "source": [
    "regressor.fit(XX,yy)"
   ]
  },
  {
   "cell_type": "code",
   "execution_count": null,
   "metadata": {},
   "outputs": [],
   "source": []
  },
  {
   "cell_type": "markdown",
   "metadata": {},
   "source": [
    "### Ridge"
   ]
  },
  {
   "cell_type": "code",
   "execution_count": null,
   "metadata": {},
   "outputs": [],
   "source": [
    "Ridge = linear_model.Ridge(random_state=10,normalize=True,alpha=.001)\n",
    "Ridge"
   ]
  },
  {
   "cell_type": "code",
   "execution_count": null,
   "metadata": {},
   "outputs": [],
   "source": [
    "Ridge.fit(XX_train,yy_train)\n",
    "#print(Ridge.intercept_)\n",
    "coef1 = pd.DataFrame(Ridge.coef_,XCols,columns=[\"Value\"])\n",
    "#coef1[coef1[\"Value\"]>0].sort_values(by=\"Value\",ascending=False)"
   ]
  },
  {
   "cell_type": "code",
   "execution_count": null,
   "metadata": {},
   "outputs": [],
   "source": [
    "yy_predicted = Ridge.predict(XX_test)\n",
    "print(metrics.mean_squared_error(y_true=yy_test, y_pred=yy_predicted))\n",
    "print(r2_score(yy_test, yy_predicted))"
   ]
  },
  {
   "cell_type": "code",
   "execution_count": null,
   "metadata": {},
   "outputs": [],
   "source": [
    "Ridge.fit(XX,yy)"
   ]
  },
  {
   "cell_type": "code",
   "execution_count": null,
   "metadata": {},
   "outputs": [],
   "source": []
  },
  {
   "cell_type": "code",
   "execution_count": null,
   "metadata": {},
   "outputs": [],
   "source": []
  },
  {
   "cell_type": "markdown",
   "metadata": {},
   "source": [
    "### Decision tree for Regression"
   ]
  },
  {
   "cell_type": "code",
   "execution_count": null,
   "metadata": {},
   "outputs": [],
   "source": [
    "from sklearn.tree import DecisionTreeRegressor\n",
    "Dtree = DecisionTreeRegressor(max_depth=3)\n",
    "Dtree.fit(XX_train,yy_train)"
   ]
  },
  {
   "cell_type": "code",
   "execution_count": null,
   "metadata": {},
   "outputs": [],
   "source": [
    "yy_predicted = Dtree.predict(XX_test)\n",
    "print(metrics.mean_squared_error(y_true=yy_test, y_pred=yy_predicted))\n",
    "print(r2_score(yy_test, yy_predicted))"
   ]
  },
  {
   "cell_type": "code",
   "execution_count": null,
   "metadata": {},
   "outputs": [],
   "source": [
    "Dtree.fit(XX,yy)"
   ]
  },
  {
   "cell_type": "code",
   "execution_count": null,
   "metadata": {},
   "outputs": [],
   "source": []
  },
  {
   "cell_type": "code",
   "execution_count": null,
   "metadata": {},
   "outputs": [],
   "source": [
    "from sklearn.ensemble import RandomForestRegressor\n",
    "RForrest = RandomForestRegressor()\n",
    "RForrest.fit(XX_train,yy_train)"
   ]
  },
  {
   "cell_type": "code",
   "execution_count": null,
   "metadata": {},
   "outputs": [],
   "source": [
    "yy_predicted = Dtree.predict(XX_test)\n",
    "print(metrics.mean_squared_error(y_true=yy_test, y_pred=yy_predicted))\n",
    "print(r2_score(yy_test, yy_predicted))"
   ]
  },
  {
   "cell_type": "code",
   "execution_count": null,
   "metadata": {},
   "outputs": [],
   "source": [
    "Dtree.fit(XX,yy)"
   ]
  },
  {
   "cell_type": "code",
   "execution_count": null,
   "metadata": {},
   "outputs": [],
   "source": []
  },
  {
   "cell_type": "code",
   "execution_count": null,
   "metadata": {},
   "outputs": [],
   "source": []
  },
  {
   "cell_type": "markdown",
   "metadata": {},
   "source": [
    "## Testing the MODEL to real world data"
   ]
  },
  {
   "cell_type": "code",
   "execution_count": null,
   "metadata": {},
   "outputs": [],
   "source": [
    "Sales_Predict = Sales.loc[Sales[\"Type\"]==\"test\",XCols]\n",
    "Sales_Predict.head()"
   ]
  },
  {
   "cell_type": "markdown",
   "metadata": {},
   "source": [
    "##### Combining LASSO, ADB and Ridge together"
   ]
  },
  {
   "cell_type": "code",
   "execution_count": null,
   "metadata": {},
   "outputs": [],
   "source": [
    "Lasso_Prediction = Lasso.predict(Sales_Predict)\n",
    "ADB_Prediction = regressor.predict(Sales_Predict)\n",
    "Ridge_Prediction = Ridge.predict(Sales_Predict)\n",
    "RForrest_Prediction = RForrest.predict(Sales_Predict)\n",
    "Dtree_Prediction = Dtree.predict(Sales_Predict)"
   ]
  },
  {
   "cell_type": "code",
   "execution_count": null,
   "metadata": {},
   "outputs": [],
   "source": [
    "print(Lasso_Prediction[:5])\n",
    "print(ADB_Prediction[:5])\n",
    "print(Ridge_Prediction[:5])\n",
    "print(RForrest_Prediction[:5])\n",
    "print(Dtree_Prediction[:5])"
   ]
  },
  {
   "cell_type": "code",
   "execution_count": null,
   "metadata": {},
   "outputs": [],
   "source": [
    "#Data_Predicted"
   ]
  },
  {
   "cell_type": "code",
   "execution_count": null,
   "metadata": {},
   "outputs": [],
   "source": [
    "Data_Predicted[\"Lasso_Prediction\"] = pd.Series(Lasso_Prediction) * Data_Predicted[\"Item_MRP\"]\n",
    "Data_Predicted[\"ADB_Prediction\"] = pd.Series(ADB_Prediction) * Data_Predicted[\"Item_MRP\"]\n",
    "Data_Predicted[\"Ridge_Prediction\"] = pd.Series(Ridge_Prediction) * Data_Predicted[\"Item_MRP\"]\n",
    "Data_Predicted[\"DTree_Prediction\"] = pd.Series(Dtree_Prediction) * Data_Predicted[\"Item_MRP\"]\n",
    "Data_Predicted[\"RForrest_Prediction\"] = pd.Series(RForrest_Prediction) * Data_Predicted[\"Item_MRP\"]"
   ]
  },
  {
   "cell_type": "code",
   "execution_count": null,
   "metadata": {},
   "outputs": [],
   "source": [
    "Data_Predicted[\"Item_Outlet_Sales\"] = (Data_Predicted[\"Lasso_Prediction\"]+Data_Predicted[\"ADB_Prediction\"]+Data_Predicted[\"ADB_Prediction\"]+Data_Predicted[\"DTree_Prediction\"]+Data_Predicted[\"RForrest_Prediction\"])/5"
   ]
  },
  {
   "cell_type": "code",
   "execution_count": null,
   "metadata": {},
   "outputs": [],
   "source": [
    "Data_Predicted.drop([\"Item_MRP\",\"Lasso_Prediction\",\"ADB_Prediction\",\"Ridge_Prediction\",\"RForrest_Prediction\",\"DTree_Prediction\"],axis=1,inplace=True)\n",
    "Data_Predicted.head()"
   ]
  },
  {
   "cell_type": "code",
   "execution_count": null,
   "metadata": {},
   "outputs": [],
   "source": [
    "Data_Predicted.to_csv(\"Data/SalesPrediction_submission.csv\", index=False)"
   ]
  },
  {
   "cell_type": "code",
   "execution_count": null,
   "metadata": {},
   "outputs": [],
   "source": []
  },
  {
   "cell_type": "markdown",
   "metadata": {
    "collapsed": true
   },
   "source": [
    "### The END!"
   ]
  }
 ],
 "metadata": {
  "anaconda-cloud": {},
  "kernelspec": {
   "display_name": "Python 3",
   "language": "python",
   "name": "python3"
  },
  "language_info": {
   "codemirror_mode": {
    "name": "ipython",
    "version": 3
   },
   "file_extension": ".py",
   "mimetype": "text/x-python",
   "name": "python",
   "nbconvert_exporter": "python",
   "pygments_lexer": "ipython3",
   "version": "3.6.3"
  }
 },
 "nbformat": 4,
 "nbformat_minor": 1
}
