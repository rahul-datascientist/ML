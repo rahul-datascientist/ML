{
 "cells": [
  {
   "cell_type": "code",
   "execution_count": 1,
   "metadata": {
    "collapsed": false
   },
   "outputs": [],
   "source": [
    "#Importing Library and setting environment path\n",
    "import os\n",
    "import sys\n",
    "#set the path \n",
    "os.environ['SPARK_HOME'] = \"C:/Spark\"\n",
    "sys.path.append(\"C:/Spark/bin\")\n",
    "sys.path.append(\"C:/Spark/python\")\n",
    "sys.path.append(\"C:/Spark/python/pyspark\")\n",
    "sys.path.append(\"C:/Spark/python/pyspark/lib\")\n",
    "sys.path.append(\"C:/Spark/python/pyspark/lib/pyspark.zip\")\n",
    "sys.path.append(\"C:/Spark/python/pyspark/lib/py4j-0.10.3-src.zip\")\n",
    "sys.path.append(\"C:/Program Files/Java/jre1.8.0_111/bin\")\n",
    "\n",
    "#Importing required Libraries\n",
    "from pyspark import SparkContext\n",
    "from pyspark.streaming import StreamingContext\n",
    "from pyspark.sql import SQLContext,Row\n",
    "import pandas as pd\n",
    "import numpy as np\n",
    "from datetime import datetime\n",
    "import matplotlib.pyplot as plt\n",
    "%matplotlib inline"
   ]
  },
  {
   "cell_type": "code",
   "execution_count": 2,
   "metadata": {
    "collapsed": false
   },
   "outputs": [],
   "source": [
    "## initiating varibles of interest\n",
    "interestVariables = set(['ronaldo','messi'])\n",
    "\n",
    "## Adding spark context \n",
    "sc = SparkContext(\"local[6]\", \"Twitterapi\") ## Local with 6 cores, naming projects as Twitterapi\n",
    "\n",
    "## Adding a spark streaming context\n",
    "ssc = StreamingContext(sc, 20) ## Update in every twenty seconds\n",
    "\n",
    "## Creating SQL context\n",
    "sqlContext = SQLContext(sc)\n",
    "\n",
    "## Local server where data is coming from tweepy\n",
    "socket_stream = ssc.socketTextStream(\"localhost\", 5555)\n",
    "lines = socket_stream.window(60)"
   ]
  },
  {
   "cell_type": "code",
   "execution_count": 3,
   "metadata": {
    "collapsed": false
   },
   "outputs": [],
   "source": [
    "## Processing Dstream\n",
    "lines_1 = lines.flatMap( lambda text: list(c.intersection(set(text.lower().split())))) \\\n",
    ".map( lambda word: (word,1)) \\\n",
    ".reduceByKey( lambda a, b: a + b) \\\n",
    ".map(lambda rec: Row(rec[0], str(rec[1])))\n",
    "\n",
    "## Saving Dstream output for each RDD in temporary tweets database\n",
    "lines_1.foreachRDD(lambda rdd: rdd.toDF().registerTempTable(\"tweets\"))\n",
    "#lines_1.pprint()\n",
    "ssc.start()"
   ]
  },
  {
   "cell_type": "code",
   "execution_count": null,
   "metadata": {
    "collapsed": false
   },
   "outputs": [
    {
     "name": "stdout",
     "output_type": "stream",
     "text": [
      "Plot Generated:\n",
      " 2017-01-20 \n",
      " 02:44:08\n"
     ]
    },
    {
     "data": {
      "image/png": "[encoded data removed]",
      "text/plain": [
       "<matplotlib.figure.Figure at 0x451d6d8>"
      ]
     },
     "metadata": {},
     "output_type": "display_data"
    },
    {
     "name": "stdout",
     "output_type": "stream",
     "text": [
      "Plot Generated:\n",
      " 2017-01-20 \n",
      " 02:44:24\n"
     ]
    },
    {
     "data": {
      "image/png": "[encoded data removed]",
      "text/plain": [
       "<matplotlib.figure.Figure at 0xa6bcf60>"
      ]
     },
     "metadata": {},
     "output_type": "display_data"
    },
    {
     "name": "stdout",
     "output_type": "stream",
     "text": [
      "Plot Generated:\n",
      " 2017-01-20 \n",
      " 02:44:39\n"
     ]
    },
    {
     "data": {
      "image/png": "[encoded data removed]",
      "text/plain": [
       "<matplotlib.figure.Figure at 0xa582588>"
      ]
     },
     "metadata": {},
     "output_type": "display_data"
    }
   ],
   "source": [
    "# Plotting popularity of Ronaldo and Messi from live twitter stream\n",
    "while True:\n",
    "    try:\n",
    "        x = sqlContext.sql(\"SELECT * from tweets\").toPandas()\n",
    "        x.columns = ['Names','Tweet_count']\n",
    "        x.index = x['Names']\n",
    "        x['Tweet_count'] = x['Tweet_count'].astype(dtype='int64')\n",
    "        print('Plot Generated:\\n {:%Y-%m-%d \\n %H:%M:%S}'.format(datetime.now()))\n",
    "        p1 = plt.bar([1,1.5],list(x['Tweet_count']),width=0.35)\n",
    "        plt.xticks([1.17,1.67],list(x['Names']))\n",
    "        plt.show()\n",
    "        time.sleep(10)\n",
    "    except:\n",
    "        pass"
   ]
  }
 ],
 "metadata": {
  "anaconda-cloud": {},
  "kernelspec": {
   "display_name": "Python [conda root]",
   "language": "python",
   "name": "conda-root-py"
  },
  "language_info": {
   "codemirror_mode": {
    "name": "ipython",
    "version": 2
   },
   "file_extension": ".py",
   "mimetype": "text/x-python",
   "name": "python",
   "nbconvert_exporter": "python",
   "pygments_lexer": "ipython2",
   "version": "2.7.12"
  }
 },
 "nbformat": 4,
 "nbformat_minor": 1
}
