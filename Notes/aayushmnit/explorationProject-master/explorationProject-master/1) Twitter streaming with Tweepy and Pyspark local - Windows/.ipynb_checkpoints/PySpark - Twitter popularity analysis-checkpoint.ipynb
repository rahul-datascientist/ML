{
 "cells": [
  {
   "cell_type": "code",
   "execution_count": 1,
   "metadata": {
    "collapsed": false
   },
   "outputs": [],
   "source": [
    "#Importing Library and setting environment path\n",
    "import os\n",
    "import sys\n",
    "#set the path \n",
    "os.environ['SPARK_HOME'] = \"C:/Spark\"\n",
    "sys.path.append(\"C:/Spark/bin\")\n",
    "sys.path.append(\"C:/Spark/python\")\n",
    "sys.path.append(\"C:/Spark/python/pyspark\")\n",
    "sys.path.append(\"C:/Spark/python/pyspark/lib\")\n",
    "sys.path.append(\"C:/Spark/python/pyspark/lib/pyspark.zip\")\n",
    "sys.path.append(\"C:/Spark/python/pyspark/lib/py4j-0.10.3-src.zip\")\n",
    "sys.path.append(\"C:/Program Files/Java/jre1.8.0_111/bin\")\n",
    "\n",
    "#Importing required Libraries\n",
    "from pyspark import SparkContext\n",
    "from pyspark.streaming import StreamingContext"
   ]
  },
  {
   "cell_type": "code",
   "execution_count": 2,
   "metadata": {
    "collapsed": false
   },
   "outputs": [],
   "source": [
    "## initiating varibles of interest\n",
    "interestVariables = set(['ronaldo','messi'])\n",
    "\n",
    "## Adding spark context \n",
    "sc = SparkContext(\"local[6]\", \"Twitterapi\")  ## Local with 6 cores, naming projects as Twitterapi\n",
    "\n",
    "## Adding a spark streaming context\n",
    "ssc = StreamingContext(sc, 10) ## Update in every ten seconds\n",
    "\n",
    "## Local server where data is coming from tweepy\n",
    "socket_stream = ssc.socketTextStream(\"localhost\", 5555)\n",
    "\n",
    "## Making Window of 20 secs \n",
    "lines = socket_stream.window(20)"
   ]
  },
  {
   "cell_type": "code",
   "execution_count": null,
   "metadata": {
    "collapsed": false
   },
   "outputs": [
    {
     "name": "stdout",
     "output_type": "stream",
     "text": [
      "-------------------------------------------\n",
      "Time: 2017-01-13 19:19:50\n",
      "-------------------------------------------\n",
      "\n",
      "-------------------------------------------\n",
      "Time: 2017-01-13 19:20:00\n",
      "-------------------------------------------\n",
      "<Row(messi, 1)>\n",
      "\n",
      "-------------------------------------------\n",
      "Time: 2017-01-13 19:20:10\n",
      "-------------------------------------------\n",
      "<Row(messi, 4)>\n",
      "\n",
      "-------------------------------------------\n",
      "Time: 2017-01-13 19:20:20\n",
      "-------------------------------------------\n",
      "<Row(messi, 5)>\n",
      "<Row(ronaldo, 1)>\n",
      "\n",
      "-------------------------------------------\n",
      "Time: 2017-01-13 19:20:30\n",
      "-------------------------------------------\n",
      "<Row(messi, 3)>\n",
      "<Row(ronaldo, 3)>\n",
      "\n",
      "-------------------------------------------\n",
      "Time: 2017-01-13 19:20:40\n",
      "-------------------------------------------\n",
      "<Row(messi, 2)>\n",
      "<Row(ronaldo, 3)>\n",
      "\n",
      "-------------------------------------------\n",
      "Time: 2017-01-13 19:20:50\n",
      "-------------------------------------------\n",
      "<Row(messi, 3)>\n",
      "<Row(ronaldo, 2)>\n",
      "\n"
     ]
    }
   ],
   "source": [
    "## Processing Dstream\n",
    "lines_1 = lines.flatMap( lambda text: list(c.intersection(set(text.lower().split())))) \\\n",
    ".map( lambda word: (word,1)) \\\n",
    ".reduceByKey( lambda a, b: a + b) \\\n",
    ".map(lambda rec: Row(rec[0], str(rec[1])))\n",
    "\n",
    "# printing Dstream output per RDD\n",
    "lines_1.pprint()\n",
    "ssc.start()\n",
    "ssc.awaitTermination()\n",
    "ssc.stop()"
   ]
  }
 ],
 "metadata": {
  "anaconda-cloud": {},
  "kernelspec": {
   "display_name": "Python [default]",
   "language": "python",
   "name": "python2"
  },
  "language_info": {
   "codemirror_mode": {
    "name": "ipython",
    "version": 2
   },
   "file_extension": ".py",
   "mimetype": "text/x-python",
   "name": "python",
   "nbconvert_exporter": "python",
   "pygments_lexer": "ipython2",
   "version": "2.7.12"
  }
 },
 "nbformat": 4,
 "nbformat_minor": 1
}
